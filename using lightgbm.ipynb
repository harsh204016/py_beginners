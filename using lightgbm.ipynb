{
 "cells": [
  {
   "cell_type": "code",
   "execution_count": 16,
   "metadata": {},
   "outputs": [],
   "source": [
    "import pandas as pd\n",
    "from sklearn import preprocessing\n",
    "from sklearn.model_selection import StratifiedKFold"
   ]
  },
  {
   "cell_type": "code",
   "execution_count": 17,
   "metadata": {},
   "outputs": [
    {
     "data": {
      "text/html": [
       "<div>\n",
       "<style scoped>\n",
       "    .dataframe tbody tr th:only-of-type {\n",
       "        vertical-align: middle;\n",
       "    }\n",
       "\n",
       "    .dataframe tbody tr th {\n",
       "        vertical-align: top;\n",
       "    }\n",
       "\n",
       "    .dataframe thead th {\n",
       "        text-align: right;\n",
       "    }\n",
       "</style>\n",
       "<table border=\"1\" class=\"dataframe\">\n",
       "  <thead>\n",
       "    <tr style=\"text-align: right;\">\n",
       "      <th></th>\n",
       "      <th>id</th>\n",
       "      <th>bin_0</th>\n",
       "      <th>bin_1</th>\n",
       "      <th>bin_2</th>\n",
       "      <th>bin_3</th>\n",
       "      <th>bin_4</th>\n",
       "      <th>nom_0</th>\n",
       "      <th>nom_1</th>\n",
       "      <th>nom_2</th>\n",
       "      <th>nom_3</th>\n",
       "      <th>...</th>\n",
       "      <th>nom_9</th>\n",
       "      <th>ord_0</th>\n",
       "      <th>ord_1</th>\n",
       "      <th>ord_2</th>\n",
       "      <th>ord_3</th>\n",
       "      <th>ord_4</th>\n",
       "      <th>ord_5</th>\n",
       "      <th>day</th>\n",
       "      <th>month</th>\n",
       "      <th>target</th>\n",
       "    </tr>\n",
       "  </thead>\n",
       "  <tbody>\n",
       "    <tr>\n",
       "      <th>0</th>\n",
       "      <td>0</td>\n",
       "      <td>0.0</td>\n",
       "      <td>0.0</td>\n",
       "      <td>0.0</td>\n",
       "      <td>F</td>\n",
       "      <td>N</td>\n",
       "      <td>Red</td>\n",
       "      <td>Trapezoid</td>\n",
       "      <td>Hamster</td>\n",
       "      <td>Russia</td>\n",
       "      <td>...</td>\n",
       "      <td>02e7c8990</td>\n",
       "      <td>3.0</td>\n",
       "      <td>Contributor</td>\n",
       "      <td>Hot</td>\n",
       "      <td>c</td>\n",
       "      <td>U</td>\n",
       "      <td>Pw</td>\n",
       "      <td>6.0</td>\n",
       "      <td>3.0</td>\n",
       "      <td>0</td>\n",
       "    </tr>\n",
       "    <tr>\n",
       "      <th>1</th>\n",
       "      <td>1</td>\n",
       "      <td>1.0</td>\n",
       "      <td>1.0</td>\n",
       "      <td>0.0</td>\n",
       "      <td>F</td>\n",
       "      <td>Y</td>\n",
       "      <td>Red</td>\n",
       "      <td>Star</td>\n",
       "      <td>Axolotl</td>\n",
       "      <td>NaN</td>\n",
       "      <td>...</td>\n",
       "      <td>f37df64af</td>\n",
       "      <td>3.0</td>\n",
       "      <td>Grandmaster</td>\n",
       "      <td>Warm</td>\n",
       "      <td>e</td>\n",
       "      <td>X</td>\n",
       "      <td>pE</td>\n",
       "      <td>7.0</td>\n",
       "      <td>7.0</td>\n",
       "      <td>0</td>\n",
       "    </tr>\n",
       "    <tr>\n",
       "      <th>2</th>\n",
       "      <td>2</td>\n",
       "      <td>0.0</td>\n",
       "      <td>1.0</td>\n",
       "      <td>0.0</td>\n",
       "      <td>F</td>\n",
       "      <td>N</td>\n",
       "      <td>Red</td>\n",
       "      <td>NaN</td>\n",
       "      <td>Hamster</td>\n",
       "      <td>Canada</td>\n",
       "      <td>...</td>\n",
       "      <td>NaN</td>\n",
       "      <td>3.0</td>\n",
       "      <td>NaN</td>\n",
       "      <td>Freezing</td>\n",
       "      <td>n</td>\n",
       "      <td>P</td>\n",
       "      <td>eN</td>\n",
       "      <td>5.0</td>\n",
       "      <td>9.0</td>\n",
       "      <td>0</td>\n",
       "    </tr>\n",
       "    <tr>\n",
       "      <th>3</th>\n",
       "      <td>3</td>\n",
       "      <td>NaN</td>\n",
       "      <td>0.0</td>\n",
       "      <td>0.0</td>\n",
       "      <td>F</td>\n",
       "      <td>N</td>\n",
       "      <td>Red</td>\n",
       "      <td>Circle</td>\n",
       "      <td>Hamster</td>\n",
       "      <td>Finland</td>\n",
       "      <td>...</td>\n",
       "      <td>f9d456e57</td>\n",
       "      <td>1.0</td>\n",
       "      <td>Novice</td>\n",
       "      <td>Lava Hot</td>\n",
       "      <td>a</td>\n",
       "      <td>C</td>\n",
       "      <td>NaN</td>\n",
       "      <td>3.0</td>\n",
       "      <td>3.0</td>\n",
       "      <td>0</td>\n",
       "    </tr>\n",
       "    <tr>\n",
       "      <th>4</th>\n",
       "      <td>4</td>\n",
       "      <td>0.0</td>\n",
       "      <td>NaN</td>\n",
       "      <td>0.0</td>\n",
       "      <td>T</td>\n",
       "      <td>N</td>\n",
       "      <td>Red</td>\n",
       "      <td>Triangle</td>\n",
       "      <td>Hamster</td>\n",
       "      <td>Costa Rica</td>\n",
       "      <td>...</td>\n",
       "      <td>c5361037c</td>\n",
       "      <td>3.0</td>\n",
       "      <td>Grandmaster</td>\n",
       "      <td>Cold</td>\n",
       "      <td>h</td>\n",
       "      <td>C</td>\n",
       "      <td>OZ</td>\n",
       "      <td>5.0</td>\n",
       "      <td>12.0</td>\n",
       "      <td>0</td>\n",
       "    </tr>\n",
       "  </tbody>\n",
       "</table>\n",
       "<p>5 rows × 25 columns</p>\n",
       "</div>"
      ],
      "text/plain": [
       "   id  bin_0  bin_1  bin_2 bin_3 bin_4 nom_0      nom_1    nom_2       nom_3  \\\n",
       "0   0    0.0    0.0    0.0     F     N   Red  Trapezoid  Hamster      Russia   \n",
       "1   1    1.0    1.0    0.0     F     Y   Red       Star  Axolotl         NaN   \n",
       "2   2    0.0    1.0    0.0     F     N   Red        NaN  Hamster      Canada   \n",
       "3   3    NaN    0.0    0.0     F     N   Red     Circle  Hamster     Finland   \n",
       "4   4    0.0    NaN    0.0     T     N   Red   Triangle  Hamster  Costa Rica   \n",
       "\n",
       "   ...      nom_9 ord_0        ord_1     ord_2 ord_3 ord_4  ord_5  day month  \\\n",
       "0  ...  02e7c8990   3.0  Contributor       Hot     c     U     Pw  6.0   3.0   \n",
       "1  ...  f37df64af   3.0  Grandmaster      Warm     e     X     pE  7.0   7.0   \n",
       "2  ...        NaN   3.0          NaN  Freezing     n     P     eN  5.0   9.0   \n",
       "3  ...  f9d456e57   1.0       Novice  Lava Hot     a     C    NaN  3.0   3.0   \n",
       "4  ...  c5361037c   3.0  Grandmaster      Cold     h     C     OZ  5.0  12.0   \n",
       "\n",
       "  target  \n",
       "0      0  \n",
       "1      0  \n",
       "2      0  \n",
       "3      0  \n",
       "4      0  \n",
       "\n",
       "[5 rows x 25 columns]"
      ]
     },
     "execution_count": 17,
     "metadata": {},
     "output_type": "execute_result"
    }
   ],
   "source": [
    "df=pd.read_csv(\"train.csv\")\n",
    "df_test=pd.read_csv(\"test.csv\")\n",
    "df.head()"
   ]
  },
  {
   "cell_type": "code",
   "execution_count": 18,
   "metadata": {},
   "outputs": [
    {
     "data": {
      "text/plain": [
       "(0.0    474018\n",
       " 1.0    107979\n",
       " Name: bin_1, dtype: int64, Red      323286\n",
       " Blue     205861\n",
       " Green     52601\n",
       " Name: nom_0, dtype: int64)"
      ]
     },
     "execution_count": 18,
     "metadata": {},
     "output_type": "execute_result"
    }
   ],
   "source": [
    "df.bin_1.value_counts(),df.nom_0.value_counts()"
   ]
  },
  {
   "cell_type": "code",
   "execution_count": 19,
   "metadata": {},
   "outputs": [
    {
     "data": {
      "text/plain": [
       "0    487677\n",
       "1    112323\n",
       "Name: target, dtype: int64"
      ]
     },
     "execution_count": 19,
     "metadata": {},
     "output_type": "execute_result"
    }
   ],
   "source": [
    "df.target.value_counts()"
   ]
  },
  {
   "cell_type": "code",
   "execution_count": 20,
   "metadata": {},
   "outputs": [],
   "source": [
    "class categoricalfeature:\n",
    "    def __init__(self,df,cat_feat,encoding_type,handle_NAN=False):\n",
    "        #df pandas frames\n",
    "        #cat_feature: list of categorical feature\n",
    "        #encoding_type: lable,binary,one_hot\n",
    "        self.df=df\n",
    "        self.output_df=self.df.copy(deep=True)\n",
    "        self.cat_feat=cat_feat\n",
    "        self.encoding_type=encoding_type\n",
    "        self.label_encoders=dict()\n",
    "        \n",
    "        if handle_NAN:\n",
    "            for c in self.cat_feat:\n",
    "                self.df.loc[:,c]= self.df.loc[:,c].astype(str).fillna('-99999')\n",
    "\n",
    "    def _label_endcoding(self):\n",
    "        for c in self.cat_feat:\n",
    "            lbl=preprocessing.LabelEncoder()\n",
    "            lbl.fit(self.df[c].values)\n",
    "            self.output_df.loc[:,c]=lbl.transform(self.df[c].values)\n",
    "            self.label_encoders[c]=lbl\n",
    "        return self.output_df\n",
    "            \n",
    "    def transform(self):\n",
    "        if self.encoding_type=='label':\n",
    "            return self._label_endcoding()\n",
    "        else:\n",
    "            raise Exception(\"Encoding type not understand\")"
   ]
  },
  {
   "cell_type": "code",
   "execution_count": 21,
   "metadata": {},
   "outputs": [],
   "source": [
    "cols=[c for c in df.columns if c not in ['id','target']]\n",
    "cat=categoricalfeature(df,cat_feat=cols,encoding_type='label',handle_NAN=True)\n",
    "catt=categoricalfeature(df_test,cat_feat=cols,encoding_type='label',handle_NAN=True)\n",
    "encoded_df=cat.transform()\n",
    "encoded_df_test=catt.transform()"
   ]
  },
  {
   "cell_type": "code",
   "execution_count": 22,
   "metadata": {},
   "outputs": [
    {
     "data": {
      "text/html": [
       "<div>\n",
       "<style scoped>\n",
       "    .dataframe tbody tr th:only-of-type {\n",
       "        vertical-align: middle;\n",
       "    }\n",
       "\n",
       "    .dataframe tbody tr th {\n",
       "        vertical-align: top;\n",
       "    }\n",
       "\n",
       "    .dataframe thead th {\n",
       "        text-align: right;\n",
       "    }\n",
       "</style>\n",
       "<table border=\"1\" class=\"dataframe\">\n",
       "  <thead>\n",
       "    <tr style=\"text-align: right;\">\n",
       "      <th></th>\n",
       "      <th>id</th>\n",
       "      <th>bin_0</th>\n",
       "      <th>bin_1</th>\n",
       "      <th>bin_2</th>\n",
       "      <th>bin_3</th>\n",
       "      <th>bin_4</th>\n",
       "      <th>nom_0</th>\n",
       "      <th>nom_1</th>\n",
       "      <th>nom_2</th>\n",
       "      <th>nom_3</th>\n",
       "      <th>...</th>\n",
       "      <th>nom_9</th>\n",
       "      <th>ord_0</th>\n",
       "      <th>ord_1</th>\n",
       "      <th>ord_2</th>\n",
       "      <th>ord_3</th>\n",
       "      <th>ord_4</th>\n",
       "      <th>ord_5</th>\n",
       "      <th>day</th>\n",
       "      <th>month</th>\n",
       "      <th>target</th>\n",
       "    </tr>\n",
       "  </thead>\n",
       "  <tbody>\n",
       "    <tr>\n",
       "      <th>0</th>\n",
       "      <td>0</td>\n",
       "      <td>0</td>\n",
       "      <td>0</td>\n",
       "      <td>0</td>\n",
       "      <td>0</td>\n",
       "      <td>0</td>\n",
       "      <td>2</td>\n",
       "      <td>4</td>\n",
       "      <td>3</td>\n",
       "      <td>5</td>\n",
       "      <td>...</td>\n",
       "      <td>27</td>\n",
       "      <td>2</td>\n",
       "      <td>0</td>\n",
       "      <td>3</td>\n",
       "      <td>2</td>\n",
       "      <td>20</td>\n",
       "      <td>56</td>\n",
       "      <td>5</td>\n",
       "      <td>5</td>\n",
       "      <td>0</td>\n",
       "    </tr>\n",
       "    <tr>\n",
       "      <th>1</th>\n",
       "      <td>1</td>\n",
       "      <td>1</td>\n",
       "      <td>1</td>\n",
       "      <td>0</td>\n",
       "      <td>0</td>\n",
       "      <td>1</td>\n",
       "      <td>2</td>\n",
       "      <td>3</td>\n",
       "      <td>0</td>\n",
       "      <td>6</td>\n",
       "      <td>...</td>\n",
       "      <td>2112</td>\n",
       "      <td>2</td>\n",
       "      <td>2</td>\n",
       "      <td>5</td>\n",
       "      <td>4</td>\n",
       "      <td>23</td>\n",
       "      <td>151</td>\n",
       "      <td>6</td>\n",
       "      <td>9</td>\n",
       "      <td>0</td>\n",
       "    </tr>\n",
       "    <tr>\n",
       "      <th>2</th>\n",
       "      <td>2</td>\n",
       "      <td>0</td>\n",
       "      <td>1</td>\n",
       "      <td>0</td>\n",
       "      <td>0</td>\n",
       "      <td>0</td>\n",
       "      <td>2</td>\n",
       "      <td>6</td>\n",
       "      <td>3</td>\n",
       "      <td>0</td>\n",
       "      <td>...</td>\n",
       "      <td>2218</td>\n",
       "      <td>2</td>\n",
       "      <td>5</td>\n",
       "      <td>2</td>\n",
       "      <td>13</td>\n",
       "      <td>15</td>\n",
       "      <td>105</td>\n",
       "      <td>4</td>\n",
       "      <td>11</td>\n",
       "      <td>0</td>\n",
       "    </tr>\n",
       "    <tr>\n",
       "      <th>3</th>\n",
       "      <td>3</td>\n",
       "      <td>2</td>\n",
       "      <td>0</td>\n",
       "      <td>0</td>\n",
       "      <td>0</td>\n",
       "      <td>0</td>\n",
       "      <td>2</td>\n",
       "      <td>0</td>\n",
       "      <td>3</td>\n",
       "      <td>3</td>\n",
       "      <td>...</td>\n",
       "      <td>2167</td>\n",
       "      <td>0</td>\n",
       "      <td>4</td>\n",
       "      <td>4</td>\n",
       "      <td>0</td>\n",
       "      <td>2</td>\n",
       "      <td>140</td>\n",
       "      <td>2</td>\n",
       "      <td>5</td>\n",
       "      <td>0</td>\n",
       "    </tr>\n",
       "    <tr>\n",
       "      <th>4</th>\n",
       "      <td>4</td>\n",
       "      <td>0</td>\n",
       "      <td>2</td>\n",
       "      <td>0</td>\n",
       "      <td>1</td>\n",
       "      <td>0</td>\n",
       "      <td>2</td>\n",
       "      <td>5</td>\n",
       "      <td>3</td>\n",
       "      <td>2</td>\n",
       "      <td>...</td>\n",
       "      <td>1747</td>\n",
       "      <td>2</td>\n",
       "      <td>2</td>\n",
       "      <td>1</td>\n",
       "      <td>7</td>\n",
       "      <td>2</td>\n",
       "      <td>50</td>\n",
       "      <td>4</td>\n",
       "      <td>3</td>\n",
       "      <td>0</td>\n",
       "    </tr>\n",
       "  </tbody>\n",
       "</table>\n",
       "<p>5 rows × 25 columns</p>\n",
       "</div>"
      ],
      "text/plain": [
       "   id  bin_0  bin_1  bin_2  bin_3  bin_4  nom_0  nom_1  nom_2  nom_3  ...  \\\n",
       "0   0      0      0      0      0      0      2      4      3      5  ...   \n",
       "1   1      1      1      0      0      1      2      3      0      6  ...   \n",
       "2   2      0      1      0      0      0      2      6      3      0  ...   \n",
       "3   3      2      0      0      0      0      2      0      3      3  ...   \n",
       "4   4      0      2      0      1      0      2      5      3      2  ...   \n",
       "\n",
       "   nom_9  ord_0  ord_1  ord_2  ord_3  ord_4  ord_5  day  month  target  \n",
       "0     27      2      0      3      2     20     56    5      5       0  \n",
       "1   2112      2      2      5      4     23    151    6      9       0  \n",
       "2   2218      2      5      2     13     15    105    4     11       0  \n",
       "3   2167      0      4      4      0      2    140    2      5       0  \n",
       "4   1747      2      2      1      7      2     50    4      3       0  \n",
       "\n",
       "[5 rows x 25 columns]"
      ]
     },
     "execution_count": 22,
     "metadata": {},
     "output_type": "execute_result"
    }
   ],
   "source": [
    "encoded_df.head()"
   ]
  },
  {
   "cell_type": "code",
   "execution_count": 23,
   "metadata": {},
   "outputs": [
    {
     "data": {
      "text/html": [
       "<div>\n",
       "<style scoped>\n",
       "    .dataframe tbody tr th:only-of-type {\n",
       "        vertical-align: middle;\n",
       "    }\n",
       "\n",
       "    .dataframe tbody tr th {\n",
       "        vertical-align: top;\n",
       "    }\n",
       "\n",
       "    .dataframe thead th {\n",
       "        text-align: right;\n",
       "    }\n",
       "</style>\n",
       "<table border=\"1\" class=\"dataframe\">\n",
       "  <thead>\n",
       "    <tr style=\"text-align: right;\">\n",
       "      <th></th>\n",
       "      <th>id</th>\n",
       "      <th>bin_0</th>\n",
       "      <th>bin_1</th>\n",
       "      <th>bin_2</th>\n",
       "      <th>bin_3</th>\n",
       "      <th>bin_4</th>\n",
       "      <th>nom_0</th>\n",
       "      <th>nom_1</th>\n",
       "      <th>nom_2</th>\n",
       "      <th>nom_3</th>\n",
       "      <th>...</th>\n",
       "      <th>nom_8</th>\n",
       "      <th>nom_9</th>\n",
       "      <th>ord_0</th>\n",
       "      <th>ord_1</th>\n",
       "      <th>ord_2</th>\n",
       "      <th>ord_3</th>\n",
       "      <th>ord_4</th>\n",
       "      <th>ord_5</th>\n",
       "      <th>day</th>\n",
       "      <th>month</th>\n",
       "    </tr>\n",
       "  </thead>\n",
       "  <tbody>\n",
       "    <tr>\n",
       "      <th>0</th>\n",
       "      <td>600000</td>\n",
       "      <td>0</td>\n",
       "      <td>0</td>\n",
       "      <td>0</td>\n",
       "      <td>0</td>\n",
       "      <td>1</td>\n",
       "      <td>0</td>\n",
       "      <td>1</td>\n",
       "      <td>0</td>\n",
       "      <td>3</td>\n",
       "      <td>...</td>\n",
       "      <td>174</td>\n",
       "      <td>2194</td>\n",
       "      <td>2</td>\n",
       "      <td>4</td>\n",
       "      <td>0</td>\n",
       "      <td>5</td>\n",
       "      <td>20</td>\n",
       "      <td>147</td>\n",
       "      <td>2</td>\n",
       "      <td>11</td>\n",
       "    </tr>\n",
       "    <tr>\n",
       "      <th>1</th>\n",
       "      <td>600001</td>\n",
       "      <td>0</td>\n",
       "      <td>0</td>\n",
       "      <td>0</td>\n",
       "      <td>0</td>\n",
       "      <td>1</td>\n",
       "      <td>2</td>\n",
       "      <td>0</td>\n",
       "      <td>4</td>\n",
       "      <td>5</td>\n",
       "      <td>...</td>\n",
       "      <td>4</td>\n",
       "      <td>1105</td>\n",
       "      <td>0</td>\n",
       "      <td>4</td>\n",
       "      <td>1</td>\n",
       "      <td>13</td>\n",
       "      <td>13</td>\n",
       "      <td>140</td>\n",
       "      <td>1</td>\n",
       "      <td>10</td>\n",
       "    </tr>\n",
       "    <tr>\n",
       "      <th>2</th>\n",
       "      <td>600002</td>\n",
       "      <td>0</td>\n",
       "      <td>0</td>\n",
       "      <td>0</td>\n",
       "      <td>0</td>\n",
       "      <td>1</td>\n",
       "      <td>0</td>\n",
       "      <td>0</td>\n",
       "      <td>0</td>\n",
       "      <td>5</td>\n",
       "      <td>...</td>\n",
       "      <td>16</td>\n",
       "      <td>810</td>\n",
       "      <td>0</td>\n",
       "      <td>1</td>\n",
       "      <td>5</td>\n",
       "      <td>8</td>\n",
       "      <td>13</td>\n",
       "      <td>12</td>\n",
       "      <td>1</td>\n",
       "      <td>8</td>\n",
       "    </tr>\n",
       "    <tr>\n",
       "      <th>3</th>\n",
       "      <td>600003</td>\n",
       "      <td>1</td>\n",
       "      <td>0</td>\n",
       "      <td>0</td>\n",
       "      <td>0</td>\n",
       "      <td>0</td>\n",
       "      <td>2</td>\n",
       "      <td>1</td>\n",
       "      <td>0</td>\n",
       "      <td>2</td>\n",
       "      <td>...</td>\n",
       "      <td>107</td>\n",
       "      <td>994</td>\n",
       "      <td>0</td>\n",
       "      <td>1</td>\n",
       "      <td>3</td>\n",
       "      <td>12</td>\n",
       "      <td>1</td>\n",
       "      <td>0</td>\n",
       "      <td>0</td>\n",
       "      <td>8</td>\n",
       "    </tr>\n",
       "    <tr>\n",
       "      <th>4</th>\n",
       "      <td>600004</td>\n",
       "      <td>0</td>\n",
       "      <td>0</td>\n",
       "      <td>1</td>\n",
       "      <td>0</td>\n",
       "      <td>1</td>\n",
       "      <td>2</td>\n",
       "      <td>0</td>\n",
       "      <td>6</td>\n",
       "      <td>3</td>\n",
       "      <td>...</td>\n",
       "      <td>30</td>\n",
       "      <td>370</td>\n",
       "      <td>0</td>\n",
       "      <td>0</td>\n",
       "      <td>4</td>\n",
       "      <td>15</td>\n",
       "      <td>9</td>\n",
       "      <td>14</td>\n",
       "      <td>2</td>\n",
       "      <td>5</td>\n",
       "    </tr>\n",
       "  </tbody>\n",
       "</table>\n",
       "<p>5 rows × 24 columns</p>\n",
       "</div>"
      ],
      "text/plain": [
       "       id  bin_0  bin_1  bin_2  bin_3  bin_4  nom_0  nom_1  nom_2  nom_3  ...  \\\n",
       "0  600000      0      0      0      0      1      0      1      0      3  ...   \n",
       "1  600001      0      0      0      0      1      2      0      4      5  ...   \n",
       "2  600002      0      0      0      0      1      0      0      0      5  ...   \n",
       "3  600003      1      0      0      0      0      2      1      0      2  ...   \n",
       "4  600004      0      0      1      0      1      2      0      6      3  ...   \n",
       "\n",
       "   nom_8  nom_9  ord_0  ord_1  ord_2  ord_3  ord_4  ord_5  day  month  \n",
       "0    174   2194      2      4      0      5     20    147    2     11  \n",
       "1      4   1105      0      4      1     13     13    140    1     10  \n",
       "2     16    810      0      1      5      8     13     12    1      8  \n",
       "3    107    994      0      1      3     12      1      0    0      8  \n",
       "4     30    370      0      0      4     15      9     14    2      5  \n",
       "\n",
       "[5 rows x 24 columns]"
      ]
     },
     "execution_count": 23,
     "metadata": {},
     "output_type": "execute_result"
    }
   ],
   "source": [
    "encoded_df_test.head()"
   ]
  },
  {
   "cell_type": "code",
   "execution_count": 24,
   "metadata": {},
   "outputs": [
    {
     "data": {
      "text/plain": [
       "Index(['id', 'bin_0', 'bin_1', 'bin_2', 'bin_3', 'bin_4', 'nom_0', 'nom_1',\n",
       "       'nom_2', 'nom_3', 'nom_4', 'nom_5', 'nom_6', 'nom_7', 'nom_8', 'nom_9',\n",
       "       'ord_0', 'ord_1', 'ord_2', 'ord_3', 'ord_4', 'ord_5', 'day', 'month',\n",
       "       'target'],\n",
       "      dtype='object')"
      ]
     },
     "execution_count": 24,
     "metadata": {},
     "output_type": "execute_result"
    }
   ],
   "source": [
    "encoded_df.columns"
   ]
  },
  {
   "cell_type": "code",
   "execution_count": 25,
   "metadata": {},
   "outputs": [],
   "source": [
    "X=encoded_df.drop([\"id\",\"target\"],axis=1)\n",
    "Y=encoded_df[\"target\"]"
   ]
  },
  {
   "cell_type": "code",
   "execution_count": 26,
   "metadata": {},
   "outputs": [
    {
     "name": "stdout",
     "output_type": "stream",
     "text": [
      "TRAIN: [     2      3      4 ... 599997 599998 599999] TEST: [     0      1     43 ... 599977 599979 599992]\n",
      "TRAIN: [     0      1      2 ... 599997 599998 599999] TEST: [    22     24     35 ... 599961 599966 599995]\n",
      "TRAIN: [     0      1      2 ... 599997 599998 599999] TEST: [     5     25     34 ... 599969 599983 599986]\n",
      "TRAIN: [     0      1      2 ... 599997 599998 599999] TEST: [     4     33     44 ... 599978 599989 599990]\n",
      "TRAIN: [     0      1      2 ... 599997 599998 599999] TEST: [    11     21     38 ... 599953 599958 599968]\n",
      "TRAIN: [     0      1      2 ... 599996 599998 599999] TEST: [    27     39     45 ... 599982 599984 599997]\n",
      "TRAIN: [     0      1      2 ... 599997 599998 599999] TEST: [     7      8      9 ... 599957 599964 599980]\n",
      "TRAIN: [     0      1      2 ... 599996 599997 599999] TEST: [    13     18     32 ... 599987 599994 599998]\n",
      "TRAIN: [     0      1      3 ... 599997 599998 599999] TEST: [     2     14     17 ... 599988 599993 599996]\n",
      "TRAIN: [     0      1      2 ... 599996 599997 599998] TEST: [     3      6     10 ... 599985 599991 599999]\n"
     ]
    }
   ],
   "source": [
    "skf = StratifiedKFold(n_splits=10,shuffle=True)\n",
    "skf.get_n_splits(X, Y)\n",
    "\n",
    "for train_index, test_index in skf.split(X, Y):\n",
    "    print(\"TRAIN:\", train_index, \"TEST:\", test_index)\n",
    "    x_train, x_test = X.iloc[train_index], X.iloc[test_index]\n",
    "    y_train, y_test = Y.iloc[train_index], Y.iloc[test_index]"
   ]
  },
  {
   "cell_type": "code",
   "execution_count": 14,
   "metadata": {},
   "outputs": [],
   "source": []
  },
  {
   "cell_type": "code",
   "execution_count": 16,
   "metadata": {
    "scrolled": true
   },
   "outputs": [
    {
     "name": "stdout",
     "output_type": "stream",
     "text": [
      "TRAIN: [     0      1      2 ... 599996 599997 599998] TEST: [     9     11     43 ... 599986 599994 599999]\n",
      "TRAIN: [     0      1      2 ... 599997 599998 599999] TEST: [     8     17     23 ... 599982 599984 599987]\n",
      "TRAIN: [     0      1      2 ... 599997 599998 599999] TEST: [    13     21     35 ... 599980 599983 599992]\n",
      "TRAIN: [     0      1      2 ... 599997 599998 599999] TEST: [    14     26     33 ... 599962 599965 599975]\n",
      "TRAIN: [     0      1      2 ... 599997 599998 599999] TEST: [     3      4     16 ... 599946 599970 599979]\n",
      "TRAIN: [     0      1      2 ... 599997 599998 599999] TEST: [     5     10     19 ... 599957 599963 599977]\n",
      "TRAIN: [     0      1      2 ... 599994 599996 599999] TEST: [     7     12     15 ... 599995 599997 599998]\n",
      "TRAIN: [     1      2      3 ... 599997 599998 599999] TEST: [     0      6     22 ... 599989 599990 599996]\n",
      "TRAIN: [     0      2      3 ... 599997 599998 599999] TEST: [     1     29     39 ... 599947 599991 599993]\n",
      "TRAIN: [     0      1      3 ... 599997 599998 599999] TEST: [     2     32     49 ... 599967 599969 599972]\n",
      "[0.8198863352277462, 0.8199530007833202, 0.8201529974500426, 0.81925, 0.8201833333333334, 0.8200166666666666, 0.8184166666666667, 0.8191303188386473, 0.8206470107835131, 0.8189469824497075]\n"
     ]
    }
   ],
   "source": [
    "'''\n",
    "\n",
    "from sklearn.metrics import confusion_matrix,accuracy_score\n",
    "from lightgbm import LGBMClassifier\n",
    "\n",
    "lgbm = LGBMClassifier(objective='binary', random_state=5)\n",
    "skf = StratifiedKFold(n_splits=10,shuffle=True)\n",
    "skf.get_n_splits(X, Y)\n",
    "accuracy=[]\n",
    "\n",
    "for train_index, test_index in skf.split(X, Y):\n",
    "    print(\"TRAIN:\", train_index, \"TEST:\", test_index)\n",
    "    x_train, x_test = X.iloc[train_index], X.iloc[test_index]\n",
    "    y_train, y_test = Y.iloc[train_index], Y.iloc[test_index]\n",
    "    #lgbm.fit(x_train,y_train)\n",
    "    #pred=lgbm.predict(x_test)\n",
    "    #zscore=accuracy_score(pred,y_test)\n",
    "    #accuracy.append(score)\n",
    "#print(accuracy)'''"
   ]
  },
  {
   "cell_type": "code",
   "execution_count": null,
   "metadata": {},
   "outputs": [],
   "source": [
    "'''import lightgbm as lgb\n",
    "from sklearn.model_selection import GridSearchCV\n",
    "\n",
    "params = {\n",
    "    'learning_rate': [0.003,.002,.001, 0.004,0.01],\n",
    "    'num_leaves': [5,10,20],\n",
    "    'reg_alpha': [0.1, 0.5],\n",
    "    'min_data_in_leaf': [10,30, 50, 100, 300, 400],\n",
    "    'lambda_l1': [0, 1, 1.5],\n",
    "    'lambda_l2': [0, 1],\n",
    "    'boosting_type':['gbdt'],\n",
    "    'objective':['binary'],\n",
    "    'metric':['binary_logloss']\n",
    "    }\n",
    "\n",
    "lgb_estimator = lgb.Dataset(X,label=Y)\n",
    "\n",
    "gsearch = GridSearchCV(estimator=lgb_estimator, param_grid=params)\n",
    "lgb_model = gsearch.fit(X=X, y=Y)\n",
    "'''"
   ]
  },
  {
   "cell_type": "code",
   "execution_count": 55,
   "metadata": {},
   "outputs": [
    {
     "name": "stdout",
     "output_type": "stream",
     "text": [
      "[1]\tvalid_0's binary_logloss: 0.474955\n",
      "Training until validation scores don't improve for 20 rounds\n",
      "[2]\tvalid_0's binary_logloss: 0.469664\n",
      "[3]\tvalid_0's binary_logloss: 0.465627\n",
      "[4]\tvalid_0's binary_logloss: 0.46169\n",
      "[5]\tvalid_0's binary_logloss: 0.458961\n",
      "[6]\tvalid_0's binary_logloss: 0.456486\n",
      "[7]\tvalid_0's binary_logloss: 0.453789\n",
      "[8]\tvalid_0's binary_logloss: 0.452155\n",
      "[9]\tvalid_0's binary_logloss: 0.450825\n",
      "[10]\tvalid_0's binary_logloss: 0.449555\n",
      "[11]\tvalid_0's binary_logloss: 0.448318\n",
      "[12]\tvalid_0's binary_logloss: 0.446684\n",
      "[13]\tvalid_0's binary_logloss: 0.444777\n",
      "[14]\tvalid_0's binary_logloss: 0.443619\n",
      "[15]\tvalid_0's binary_logloss: 0.442892\n",
      "[16]\tvalid_0's binary_logloss: 0.442007\n",
      "[17]\tvalid_0's binary_logloss: 0.440413\n",
      "[18]\tvalid_0's binary_logloss: 0.439181\n",
      "[19]\tvalid_0's binary_logloss: 0.438149\n",
      "[20]\tvalid_0's binary_logloss: 0.437485\n",
      "[21]\tvalid_0's binary_logloss: 0.436801\n",
      "[22]\tvalid_0's binary_logloss: 0.435763\n",
      "[23]\tvalid_0's binary_logloss: 0.434893\n",
      "[24]\tvalid_0's binary_logloss: 0.434333\n",
      "[25]\tvalid_0's binary_logloss: 0.433683\n",
      "[26]\tvalid_0's binary_logloss: 0.432998\n",
      "[27]\tvalid_0's binary_logloss: 0.432415\n",
      "[28]\tvalid_0's binary_logloss: 0.431815\n",
      "[29]\tvalid_0's binary_logloss: 0.431185\n",
      "[30]\tvalid_0's binary_logloss: 0.430582\n",
      "[31]\tvalid_0's binary_logloss: 0.430011\n",
      "[32]\tvalid_0's binary_logloss: 0.429624\n",
      "[33]\tvalid_0's binary_logloss: 0.429166\n",
      "[34]\tvalid_0's binary_logloss: 0.42876\n",
      "[35]\tvalid_0's binary_logloss: 0.42841\n",
      "[36]\tvalid_0's binary_logloss: 0.427925\n",
      "[37]\tvalid_0's binary_logloss: 0.42731\n",
      "[38]\tvalid_0's binary_logloss: 0.42694\n",
      "[39]\tvalid_0's binary_logloss: 0.426604\n",
      "[40]\tvalid_0's binary_logloss: 0.426313\n",
      "[41]\tvalid_0's binary_logloss: 0.425927\n",
      "[42]\tvalid_0's binary_logloss: 0.425649\n",
      "[43]\tvalid_0's binary_logloss: 0.42521\n",
      "[44]\tvalid_0's binary_logloss: 0.424832\n",
      "[45]\tvalid_0's binary_logloss: 0.424586\n",
      "[46]\tvalid_0's binary_logloss: 0.424323\n",
      "[47]\tvalid_0's binary_logloss: 0.42396\n",
      "[48]\tvalid_0's binary_logloss: 0.42376\n",
      "[49]\tvalid_0's binary_logloss: 0.423475\n",
      "[50]\tvalid_0's binary_logloss: 0.423314\n",
      "[51]\tvalid_0's binary_logloss: 0.423101\n",
      "[52]\tvalid_0's binary_logloss: 0.422887\n",
      "[53]\tvalid_0's binary_logloss: 0.422724\n",
      "[54]\tvalid_0's binary_logloss: 0.422568\n",
      "[55]\tvalid_0's binary_logloss: 0.422334\n",
      "[56]\tvalid_0's binary_logloss: 0.422095\n",
      "[57]\tvalid_0's binary_logloss: 0.421796\n",
      "[58]\tvalid_0's binary_logloss: 0.421636\n",
      "[59]\tvalid_0's binary_logloss: 0.421399\n",
      "[60]\tvalid_0's binary_logloss: 0.421186\n",
      "[61]\tvalid_0's binary_logloss: 0.420935\n",
      "[62]\tvalid_0's binary_logloss: 0.420803\n",
      "[63]\tvalid_0's binary_logloss: 0.4206\n",
      "[64]\tvalid_0's binary_logloss: 0.420477\n",
      "[65]\tvalid_0's binary_logloss: 0.420333\n",
      "[66]\tvalid_0's binary_logloss: 0.420176\n",
      "[67]\tvalid_0's binary_logloss: 0.419962\n",
      "[68]\tvalid_0's binary_logloss: 0.419759\n",
      "[69]\tvalid_0's binary_logloss: 0.419587\n",
      "[70]\tvalid_0's binary_logloss: 0.419467\n",
      "[71]\tvalid_0's binary_logloss: 0.419335\n",
      "[72]\tvalid_0's binary_logloss: 0.419217\n",
      "[73]\tvalid_0's binary_logloss: 0.419031\n",
      "[74]\tvalid_0's binary_logloss: 0.418929\n",
      "[75]\tvalid_0's binary_logloss: 0.418803\n",
      "[76]\tvalid_0's binary_logloss: 0.418704\n",
      "[77]\tvalid_0's binary_logloss: 0.418571\n",
      "[78]\tvalid_0's binary_logloss: 0.418309\n",
      "[79]\tvalid_0's binary_logloss: 0.417862\n",
      "[80]\tvalid_0's binary_logloss: 0.417768\n",
      "[81]\tvalid_0's binary_logloss: 0.41756\n",
      "[82]\tvalid_0's binary_logloss: 0.417478\n",
      "[83]\tvalid_0's binary_logloss: 0.417371\n",
      "[84]\tvalid_0's binary_logloss: 0.417232\n",
      "[85]\tvalid_0's binary_logloss: 0.417093\n",
      "[86]\tvalid_0's binary_logloss: 0.417023\n",
      "[87]\tvalid_0's binary_logloss: 0.416827\n",
      "[88]\tvalid_0's binary_logloss: 0.416702\n",
      "[89]\tvalid_0's binary_logloss: 0.416471\n",
      "[90]\tvalid_0's binary_logloss: 0.416416\n",
      "[91]\tvalid_0's binary_logloss: 0.416349\n",
      "[92]\tvalid_0's binary_logloss: 0.41626\n",
      "[93]\tvalid_0's binary_logloss: 0.416192\n",
      "[94]\tvalid_0's binary_logloss: 0.416053\n",
      "[95]\tvalid_0's binary_logloss: 0.415781\n",
      "[96]\tvalid_0's binary_logloss: 0.415694\n",
      "[97]\tvalid_0's binary_logloss: 0.415651\n",
      "[98]\tvalid_0's binary_logloss: 0.415587\n",
      "[99]\tvalid_0's binary_logloss: 0.415498\n",
      "[100]\tvalid_0's binary_logloss: 0.415332\n",
      "[101]\tvalid_0's binary_logloss: 0.415211\n",
      "[102]\tvalid_0's binary_logloss: 0.415095\n",
      "[103]\tvalid_0's binary_logloss: 0.414982\n",
      "[104]\tvalid_0's binary_logloss: 0.414924\n",
      "[105]\tvalid_0's binary_logloss: 0.414853\n",
      "[106]\tvalid_0's binary_logloss: 0.414682\n",
      "[107]\tvalid_0's binary_logloss: 0.414628\n",
      "[108]\tvalid_0's binary_logloss: 0.414583\n",
      "[109]\tvalid_0's binary_logloss: 0.414512\n",
      "[110]\tvalid_0's binary_logloss: 0.414411\n",
      "[111]\tvalid_0's binary_logloss: 0.414384\n",
      "[112]\tvalid_0's binary_logloss: 0.414307\n",
      "[113]\tvalid_0's binary_logloss: 0.414243\n",
      "[114]\tvalid_0's binary_logloss: 0.414115\n",
      "[115]\tvalid_0's binary_logloss: 0.414045\n",
      "[116]\tvalid_0's binary_logloss: 0.413978\n",
      "[117]\tvalid_0's binary_logloss: 0.413955\n",
      "[118]\tvalid_0's binary_logloss: 0.413826\n",
      "[119]\tvalid_0's binary_logloss: 0.413715\n",
      "[120]\tvalid_0's binary_logloss: 0.413429\n",
      "[121]\tvalid_0's binary_logloss: 0.413395\n",
      "[122]\tvalid_0's binary_logloss: 0.413366\n",
      "[123]\tvalid_0's binary_logloss: 0.41328\n",
      "[124]\tvalid_0's binary_logloss: 0.413207\n",
      "[125]\tvalid_0's binary_logloss: 0.413162\n",
      "[126]\tvalid_0's binary_logloss: 0.412981\n",
      "[127]\tvalid_0's binary_logloss: 0.412947\n",
      "[128]\tvalid_0's binary_logloss: 0.412841\n",
      "[129]\tvalid_0's binary_logloss: 0.412815\n",
      "[130]\tvalid_0's binary_logloss: 0.412775\n",
      "[131]\tvalid_0's binary_logloss: 0.412702\n",
      "[132]\tvalid_0's binary_logloss: 0.412644\n",
      "[133]\tvalid_0's binary_logloss: 0.41261\n",
      "[134]\tvalid_0's binary_logloss: 0.41257\n",
      "[135]\tvalid_0's binary_logloss: 0.412536\n",
      "[136]\tvalid_0's binary_logloss: 0.412428\n",
      "[137]\tvalid_0's binary_logloss: 0.4124\n",
      "[138]\tvalid_0's binary_logloss: 0.412277\n",
      "[139]\tvalid_0's binary_logloss: 0.412235\n",
      "[140]\tvalid_0's binary_logloss: 0.412058\n",
      "[141]\tvalid_0's binary_logloss: 0.412027\n",
      "[142]\tvalid_0's binary_logloss: 0.41192\n",
      "[143]\tvalid_0's binary_logloss: 0.411918\n",
      "[144]\tvalid_0's binary_logloss: 0.411912\n",
      "[145]\tvalid_0's binary_logloss: 0.411837\n",
      "[146]\tvalid_0's binary_logloss: 0.411766\n",
      "[147]\tvalid_0's binary_logloss: 0.411724\n",
      "[148]\tvalid_0's binary_logloss: 0.411672\n",
      "[149]\tvalid_0's binary_logloss: 0.411668\n",
      "[150]\tvalid_0's binary_logloss: 0.411652\n",
      "[151]\tvalid_0's binary_logloss: 0.411639\n",
      "[152]\tvalid_0's binary_logloss: 0.411633\n",
      "[153]\tvalid_0's binary_logloss: 0.411529\n",
      "[154]\tvalid_0's binary_logloss: 0.411471\n",
      "[155]\tvalid_0's binary_logloss: 0.411382\n",
      "[156]\tvalid_0's binary_logloss: 0.411359\n",
      "[157]\tvalid_0's binary_logloss: 0.411336\n",
      "[158]\tvalid_0's binary_logloss: 0.411182\n",
      "[159]\tvalid_0's binary_logloss: 0.41114\n",
      "[160]\tvalid_0's binary_logloss: 0.411035\n",
      "[161]\tvalid_0's binary_logloss: 0.411016\n",
      "[162]\tvalid_0's binary_logloss: 0.410973\n",
      "[163]\tvalid_0's binary_logloss: 0.410958\n",
      "[164]\tvalid_0's binary_logloss: 0.410836\n",
      "[165]\tvalid_0's binary_logloss: 0.410669\n",
      "[166]\tvalid_0's binary_logloss: 0.410597\n",
      "[167]\tvalid_0's binary_logloss: 0.410594\n",
      "[168]\tvalid_0's binary_logloss: 0.410558\n",
      "[169]\tvalid_0's binary_logloss: 0.410524\n",
      "[170]\tvalid_0's binary_logloss: 0.410519\n",
      "[171]\tvalid_0's binary_logloss: 0.410521\n",
      "[172]\tvalid_0's binary_logloss: 0.410501\n",
      "[173]\tvalid_0's binary_logloss: 0.410503\n",
      "[174]\tvalid_0's binary_logloss: 0.410484\n",
      "[175]\tvalid_0's binary_logloss: 0.410349\n",
      "[176]\tvalid_0's binary_logloss: 0.410279\n",
      "[177]\tvalid_0's binary_logloss: 0.410156\n",
      "[178]\tvalid_0's binary_logloss: 0.410101\n",
      "[179]\tvalid_0's binary_logloss: 0.41008\n",
      "[180]\tvalid_0's binary_logloss: 0.410042\n",
      "[181]\tvalid_0's binary_logloss: 0.41001\n",
      "[182]\tvalid_0's binary_logloss: 0.410018\n",
      "[183]\tvalid_0's binary_logloss: 0.410035\n",
      "[184]\tvalid_0's binary_logloss: 0.410022\n",
      "[185]\tvalid_0's binary_logloss: 0.410025\n",
      "[186]\tvalid_0's binary_logloss: 0.410001\n",
      "[187]\tvalid_0's binary_logloss: 0.409917\n",
      "[188]\tvalid_0's binary_logloss: 0.409899\n",
      "[189]\tvalid_0's binary_logloss: 0.409822\n",
      "[190]\tvalid_0's binary_logloss: 0.409794\n",
      "[191]\tvalid_0's binary_logloss: 0.409757\n",
      "[192]\tvalid_0's binary_logloss: 0.409665\n",
      "[193]\tvalid_0's binary_logloss: 0.409639\n",
      "[194]\tvalid_0's binary_logloss: 0.409582\n",
      "[195]\tvalid_0's binary_logloss: 0.409569\n",
      "[196]\tvalid_0's binary_logloss: 0.40957\n",
      "[197]\tvalid_0's binary_logloss: 0.409559\n",
      "[198]\tvalid_0's binary_logloss: 0.409545\n",
      "[199]\tvalid_0's binary_logloss: 0.409488\n",
      "[200]\tvalid_0's binary_logloss: 0.409488\n",
      "[201]\tvalid_0's binary_logloss: 0.409472\n",
      "[202]\tvalid_0's binary_logloss: 0.409469\n",
      "[203]\tvalid_0's binary_logloss: 0.409465\n"
     ]
    },
    {
     "name": "stdout",
     "output_type": "stream",
     "text": [
      "[204]\tvalid_0's binary_logloss: 0.409376\n",
      "[205]\tvalid_0's binary_logloss: 0.409373\n",
      "[206]\tvalid_0's binary_logloss: 0.409349\n",
      "[207]\tvalid_0's binary_logloss: 0.409337\n",
      "[208]\tvalid_0's binary_logloss: 0.409339\n",
      "[209]\tvalid_0's binary_logloss: 0.409338\n",
      "[210]\tvalid_0's binary_logloss: 0.409331\n",
      "[211]\tvalid_0's binary_logloss: 0.409294\n",
      "[212]\tvalid_0's binary_logloss: 0.409261\n",
      "[213]\tvalid_0's binary_logloss: 0.409257\n",
      "[214]\tvalid_0's binary_logloss: 0.409253\n",
      "[215]\tvalid_0's binary_logloss: 0.409258\n",
      "[216]\tvalid_0's binary_logloss: 0.409109\n",
      "[217]\tvalid_0's binary_logloss: 0.409012\n",
      "[218]\tvalid_0's binary_logloss: 0.408923\n",
      "[219]\tvalid_0's binary_logloss: 0.408909\n",
      "[220]\tvalid_0's binary_logloss: 0.408826\n",
      "[221]\tvalid_0's binary_logloss: 0.408782\n",
      "[222]\tvalid_0's binary_logloss: 0.408769\n",
      "[223]\tvalid_0's binary_logloss: 0.408683\n",
      "[224]\tvalid_0's binary_logloss: 0.408698\n",
      "[225]\tvalid_0's binary_logloss: 0.408686\n",
      "[226]\tvalid_0's binary_logloss: 0.40868\n",
      "[227]\tvalid_0's binary_logloss: 0.408641\n",
      "[228]\tvalid_0's binary_logloss: 0.408624\n",
      "[229]\tvalid_0's binary_logloss: 0.408615\n",
      "[230]\tvalid_0's binary_logloss: 0.408606\n",
      "[231]\tvalid_0's binary_logloss: 0.40859\n",
      "[232]\tvalid_0's binary_logloss: 0.408578\n",
      "[233]\tvalid_0's binary_logloss: 0.408575\n",
      "[234]\tvalid_0's binary_logloss: 0.408577\n",
      "[235]\tvalid_0's binary_logloss: 0.408572\n",
      "[236]\tvalid_0's binary_logloss: 0.408562\n",
      "[237]\tvalid_0's binary_logloss: 0.408432\n",
      "[238]\tvalid_0's binary_logloss: 0.408436\n",
      "[239]\tvalid_0's binary_logloss: 0.40844\n",
      "[240]\tvalid_0's binary_logloss: 0.408367\n",
      "[241]\tvalid_0's binary_logloss: 0.40821\n",
      "[242]\tvalid_0's binary_logloss: 0.408218\n",
      "[243]\tvalid_0's binary_logloss: 0.408197\n",
      "[244]\tvalid_0's binary_logloss: 0.40819\n",
      "[245]\tvalid_0's binary_logloss: 0.408184\n",
      "[246]\tvalid_0's binary_logloss: 0.408172\n",
      "[247]\tvalid_0's binary_logloss: 0.408171\n",
      "[248]\tvalid_0's binary_logloss: 0.408038\n",
      "[249]\tvalid_0's binary_logloss: 0.408039\n",
      "[250]\tvalid_0's binary_logloss: 0.408029\n",
      "[251]\tvalid_0's binary_logloss: 0.407949\n",
      "[252]\tvalid_0's binary_logloss: 0.407957\n",
      "[253]\tvalid_0's binary_logloss: 0.407916\n",
      "[254]\tvalid_0's binary_logloss: 0.407884\n",
      "[255]\tvalid_0's binary_logloss: 0.407887\n",
      "[256]\tvalid_0's binary_logloss: 0.407801\n",
      "[257]\tvalid_0's binary_logloss: 0.40779\n",
      "[258]\tvalid_0's binary_logloss: 0.407755\n",
      "[259]\tvalid_0's binary_logloss: 0.407722\n",
      "[260]\tvalid_0's binary_logloss: 0.407714\n",
      "[261]\tvalid_0's binary_logloss: 0.407597\n",
      "[262]\tvalid_0's binary_logloss: 0.407525\n",
      "[263]\tvalid_0's binary_logloss: 0.407531\n",
      "[264]\tvalid_0's binary_logloss: 0.407453\n",
      "[265]\tvalid_0's binary_logloss: 0.407461\n",
      "[266]\tvalid_0's binary_logloss: 0.407473\n",
      "[267]\tvalid_0's binary_logloss: 0.407461\n",
      "[268]\tvalid_0's binary_logloss: 0.407433\n",
      "[269]\tvalid_0's binary_logloss: 0.407427\n",
      "[270]\tvalid_0's binary_logloss: 0.407426\n",
      "[271]\tvalid_0's binary_logloss: 0.407412\n",
      "[272]\tvalid_0's binary_logloss: 0.407409\n",
      "[273]\tvalid_0's binary_logloss: 0.40741\n",
      "[274]\tvalid_0's binary_logloss: 0.407391\n",
      "[275]\tvalid_0's binary_logloss: 0.407387\n",
      "[276]\tvalid_0's binary_logloss: 0.407382\n",
      "[277]\tvalid_0's binary_logloss: 0.407349\n",
      "[278]\tvalid_0's binary_logloss: 0.407358\n",
      "[279]\tvalid_0's binary_logloss: 0.407363\n",
      "[280]\tvalid_0's binary_logloss: 0.407352\n",
      "[281]\tvalid_0's binary_logloss: 0.407354\n",
      "[282]\tvalid_0's binary_logloss: 0.407357\n",
      "[283]\tvalid_0's binary_logloss: 0.40736\n",
      "[284]\tvalid_0's binary_logloss: 0.407351\n",
      "[285]\tvalid_0's binary_logloss: 0.407354\n",
      "[286]\tvalid_0's binary_logloss: 0.407344\n",
      "[287]\tvalid_0's binary_logloss: 0.407335\n",
      "[288]\tvalid_0's binary_logloss: 0.407206\n",
      "[289]\tvalid_0's binary_logloss: 0.407197\n",
      "[290]\tvalid_0's binary_logloss: 0.4072\n",
      "[291]\tvalid_0's binary_logloss: 0.407209\n",
      "[292]\tvalid_0's binary_logloss: 0.407211\n",
      "[293]\tvalid_0's binary_logloss: 0.407203\n",
      "[294]\tvalid_0's binary_logloss: 0.407173\n",
      "[295]\tvalid_0's binary_logloss: 0.407153\n",
      "[296]\tvalid_0's binary_logloss: 0.407153\n",
      "[297]\tvalid_0's binary_logloss: 0.407145\n",
      "[298]\tvalid_0's binary_logloss: 0.407125\n",
      "[299]\tvalid_0's binary_logloss: 0.407119\n",
      "[300]\tvalid_0's binary_logloss: 0.407026\n",
      "[301]\tvalid_0's binary_logloss: 0.407022\n",
      "[302]\tvalid_0's binary_logloss: 0.407029\n",
      "[303]\tvalid_0's binary_logloss: 0.407026\n",
      "[304]\tvalid_0's binary_logloss: 0.407031\n",
      "[305]\tvalid_0's binary_logloss: 0.406993\n",
      "[306]\tvalid_0's binary_logloss: 0.406928\n",
      "[307]\tvalid_0's binary_logloss: 0.406916\n",
      "[308]\tvalid_0's binary_logloss: 0.406871\n",
      "[309]\tvalid_0's binary_logloss: 0.406861\n",
      "[310]\tvalid_0's binary_logloss: 0.406775\n",
      "[311]\tvalid_0's binary_logloss: 0.406765\n",
      "[312]\tvalid_0's binary_logloss: 0.406738\n",
      "[313]\tvalid_0's binary_logloss: 0.406651\n",
      "[314]\tvalid_0's binary_logloss: 0.406652\n",
      "[315]\tvalid_0's binary_logloss: 0.406646\n",
      "[316]\tvalid_0's binary_logloss: 0.406653\n",
      "[317]\tvalid_0's binary_logloss: 0.406637\n",
      "[318]\tvalid_0's binary_logloss: 0.406639\n",
      "[319]\tvalid_0's binary_logloss: 0.406639\n",
      "[320]\tvalid_0's binary_logloss: 0.406604\n",
      "[321]\tvalid_0's binary_logloss: 0.406601\n",
      "[322]\tvalid_0's binary_logloss: 0.406612\n",
      "[323]\tvalid_0's binary_logloss: 0.40662\n",
      "[324]\tvalid_0's binary_logloss: 0.406537\n",
      "[325]\tvalid_0's binary_logloss: 0.406471\n",
      "[326]\tvalid_0's binary_logloss: 0.406466\n",
      "[327]\tvalid_0's binary_logloss: 0.406465\n",
      "[328]\tvalid_0's binary_logloss: 0.406462\n",
      "[329]\tvalid_0's binary_logloss: 0.40647\n",
      "[330]\tvalid_0's binary_logloss: 0.406471\n",
      "[331]\tvalid_0's binary_logloss: 0.406471\n",
      "[332]\tvalid_0's binary_logloss: 0.406464\n",
      "[333]\tvalid_0's binary_logloss: 0.406446\n",
      "[334]\tvalid_0's binary_logloss: 0.406422\n",
      "[335]\tvalid_0's binary_logloss: 0.406414\n",
      "[336]\tvalid_0's binary_logloss: 0.406411\n",
      "[337]\tvalid_0's binary_logloss: 0.406323\n",
      "[338]\tvalid_0's binary_logloss: 0.40633\n",
      "[339]\tvalid_0's binary_logloss: 0.406266\n",
      "[340]\tvalid_0's binary_logloss: 0.406246\n",
      "[341]\tvalid_0's binary_logloss: 0.406255\n",
      "[342]\tvalid_0's binary_logloss: 0.406249\n",
      "[343]\tvalid_0's binary_logloss: 0.406252\n",
      "[344]\tvalid_0's binary_logloss: 0.406218\n",
      "[345]\tvalid_0's binary_logloss: 0.406229\n",
      "[346]\tvalid_0's binary_logloss: 0.406229\n",
      "[347]\tvalid_0's binary_logloss: 0.406218\n",
      "[348]\tvalid_0's binary_logloss: 0.406205\n",
      "[349]\tvalid_0's binary_logloss: 0.406138\n",
      "[350]\tvalid_0's binary_logloss: 0.40613\n",
      "[351]\tvalid_0's binary_logloss: 0.406132\n",
      "[352]\tvalid_0's binary_logloss: 0.406124\n",
      "[353]\tvalid_0's binary_logloss: 0.406119\n",
      "[354]\tvalid_0's binary_logloss: 0.406125\n",
      "[355]\tvalid_0's binary_logloss: 0.406119\n",
      "[356]\tvalid_0's binary_logloss: 0.406117\n",
      "[357]\tvalid_0's binary_logloss: 0.406121\n",
      "[358]\tvalid_0's binary_logloss: 0.406131\n",
      "[359]\tvalid_0's binary_logloss: 0.40611\n",
      "[360]\tvalid_0's binary_logloss: 0.406037\n",
      "[361]\tvalid_0's binary_logloss: 0.406043\n",
      "[362]\tvalid_0's binary_logloss: 0.406014\n",
      "[363]\tvalid_0's binary_logloss: 0.405998\n",
      "[364]\tvalid_0's binary_logloss: 0.405992\n",
      "[365]\tvalid_0's binary_logloss: 0.405983\n",
      "[366]\tvalid_0's binary_logloss: 0.405955\n",
      "[367]\tvalid_0's binary_logloss: 0.40595\n",
      "[368]\tvalid_0's binary_logloss: 0.405941\n",
      "[369]\tvalid_0's binary_logloss: 0.405929\n",
      "[370]\tvalid_0's binary_logloss: 0.405931\n",
      "[371]\tvalid_0's binary_logloss: 0.40593\n",
      "[372]\tvalid_0's binary_logloss: 0.405911\n",
      "[373]\tvalid_0's binary_logloss: 0.405908\n",
      "[374]\tvalid_0's binary_logloss: 0.4059\n",
      "[375]\tvalid_0's binary_logloss: 0.405908\n",
      "[376]\tvalid_0's binary_logloss: 0.405903\n",
      "[377]\tvalid_0's binary_logloss: 0.405894\n",
      "[378]\tvalid_0's binary_logloss: 0.405883\n",
      "[379]\tvalid_0's binary_logloss: 0.405877\n",
      "[380]\tvalid_0's binary_logloss: 0.405884\n",
      "[381]\tvalid_0's binary_logloss: 0.405843\n",
      "[382]\tvalid_0's binary_logloss: 0.405783\n",
      "[383]\tvalid_0's binary_logloss: 0.405781\n",
      "[384]\tvalid_0's binary_logloss: 0.405779\n",
      "[385]\tvalid_0's binary_logloss: 0.405768\n",
      "[386]\tvalid_0's binary_logloss: 0.405763\n",
      "[387]\tvalid_0's binary_logloss: 0.405765\n",
      "[388]\tvalid_0's binary_logloss: 0.405764\n",
      "[389]\tvalid_0's binary_logloss: 0.405768\n",
      "[390]\tvalid_0's binary_logloss: 0.405775\n",
      "[391]\tvalid_0's binary_logloss: 0.405768\n",
      "[392]\tvalid_0's binary_logloss: 0.405769\n",
      "[393]\tvalid_0's binary_logloss: 0.405774\n",
      "[394]\tvalid_0's binary_logloss: 0.405768\n",
      "[395]\tvalid_0's binary_logloss: 0.405771\n",
      "[396]\tvalid_0's binary_logloss: 0.405786\n",
      "[397]\tvalid_0's binary_logloss: 0.405783\n",
      "[398]\tvalid_0's binary_logloss: 0.405774\n",
      "[399]\tvalid_0's binary_logloss: 0.405774\n",
      "[400]\tvalid_0's binary_logloss: 0.405784\n",
      "[401]\tvalid_0's binary_logloss: 0.405742\n",
      "[402]\tvalid_0's binary_logloss: 0.405749\n",
      "[403]\tvalid_0's binary_logloss: 0.405744\n",
      "[404]\tvalid_0's binary_logloss: 0.40574\n",
      "[405]\tvalid_0's binary_logloss: 0.40574\n"
     ]
    },
    {
     "name": "stdout",
     "output_type": "stream",
     "text": [
      "[406]\tvalid_0's binary_logloss: 0.405743\n",
      "[407]\tvalid_0's binary_logloss: 0.405738\n",
      "[408]\tvalid_0's binary_logloss: 0.405748\n",
      "[409]\tvalid_0's binary_logloss: 0.405731\n",
      "[410]\tvalid_0's binary_logloss: 0.405735\n",
      "[411]\tvalid_0's binary_logloss: 0.405698\n",
      "[412]\tvalid_0's binary_logloss: 0.405688\n",
      "[413]\tvalid_0's binary_logloss: 0.4057\n",
      "[414]\tvalid_0's binary_logloss: 0.405699\n",
      "[415]\tvalid_0's binary_logloss: 0.405663\n",
      "[416]\tvalid_0's binary_logloss: 0.405674\n",
      "[417]\tvalid_0's binary_logloss: 0.405672\n",
      "[418]\tvalid_0's binary_logloss: 0.405671\n",
      "[419]\tvalid_0's binary_logloss: 0.405639\n",
      "[420]\tvalid_0's binary_logloss: 0.405576\n",
      "[421]\tvalid_0's binary_logloss: 0.405581\n",
      "[422]\tvalid_0's binary_logloss: 0.405561\n",
      "[423]\tvalid_0's binary_logloss: 0.405556\n",
      "[424]\tvalid_0's binary_logloss: 0.405544\n",
      "[425]\tvalid_0's binary_logloss: 0.405531\n",
      "[426]\tvalid_0's binary_logloss: 0.405526\n",
      "[427]\tvalid_0's binary_logloss: 0.405523\n",
      "[428]\tvalid_0's binary_logloss: 0.405522\n",
      "[429]\tvalid_0's binary_logloss: 0.405519\n",
      "[430]\tvalid_0's binary_logloss: 0.405453\n",
      "[431]\tvalid_0's binary_logloss: 0.405456\n",
      "[432]\tvalid_0's binary_logloss: 0.405459\n",
      "[433]\tvalid_0's binary_logloss: 0.405429\n",
      "[434]\tvalid_0's binary_logloss: 0.405372\n",
      "[435]\tvalid_0's binary_logloss: 0.405378\n",
      "[436]\tvalid_0's binary_logloss: 0.405377\n",
      "[437]\tvalid_0's binary_logloss: 0.405381\n",
      "[438]\tvalid_0's binary_logloss: 0.40538\n",
      "[439]\tvalid_0's binary_logloss: 0.40537\n",
      "[440]\tvalid_0's binary_logloss: 0.405358\n",
      "[441]\tvalid_0's binary_logloss: 0.405348\n",
      "[442]\tvalid_0's binary_logloss: 0.405354\n",
      "[443]\tvalid_0's binary_logloss: 0.405349\n",
      "[444]\tvalid_0's binary_logloss: 0.405342\n",
      "[445]\tvalid_0's binary_logloss: 0.405332\n",
      "[446]\tvalid_0's binary_logloss: 0.405328\n",
      "[447]\tvalid_0's binary_logloss: 0.405287\n",
      "[448]\tvalid_0's binary_logloss: 0.405286\n",
      "[449]\tvalid_0's binary_logloss: 0.405283\n",
      "[450]\tvalid_0's binary_logloss: 0.405288\n",
      "[451]\tvalid_0's binary_logloss: 0.405287\n",
      "[452]\tvalid_0's binary_logloss: 0.405273\n",
      "[453]\tvalid_0's binary_logloss: 0.405281\n",
      "[454]\tvalid_0's binary_logloss: 0.405272\n",
      "[455]\tvalid_0's binary_logloss: 0.405271\n",
      "[456]\tvalid_0's binary_logloss: 0.405275\n",
      "[457]\tvalid_0's binary_logloss: 0.405284\n",
      "[458]\tvalid_0's binary_logloss: 0.405274\n",
      "[459]\tvalid_0's binary_logloss: 0.405285\n",
      "[460]\tvalid_0's binary_logloss: 0.405281\n",
      "[461]\tvalid_0's binary_logloss: 0.405233\n",
      "[462]\tvalid_0's binary_logloss: 0.405234\n",
      "[463]\tvalid_0's binary_logloss: 0.405243\n",
      "[464]\tvalid_0's binary_logloss: 0.405249\n",
      "[465]\tvalid_0's binary_logloss: 0.405248\n",
      "[466]\tvalid_0's binary_logloss: 0.405252\n",
      "[467]\tvalid_0's binary_logloss: 0.405258\n",
      "[468]\tvalid_0's binary_logloss: 0.405242\n",
      "[469]\tvalid_0's binary_logloss: 0.405244\n",
      "[470]\tvalid_0's binary_logloss: 0.405238\n",
      "[471]\tvalid_0's binary_logloss: 0.405228\n",
      "[472]\tvalid_0's binary_logloss: 0.405223\n",
      "[473]\tvalid_0's binary_logloss: 0.405226\n",
      "[474]\tvalid_0's binary_logloss: 0.405219\n",
      "[475]\tvalid_0's binary_logloss: 0.40522\n",
      "[476]\tvalid_0's binary_logloss: 0.405212\n",
      "[477]\tvalid_0's binary_logloss: 0.405211\n",
      "[478]\tvalid_0's binary_logloss: 0.405214\n",
      "[479]\tvalid_0's binary_logloss: 0.405207\n",
      "[480]\tvalid_0's binary_logloss: 0.405203\n",
      "[481]\tvalid_0's binary_logloss: 0.405195\n",
      "[482]\tvalid_0's binary_logloss: 0.405202\n",
      "[483]\tvalid_0's binary_logloss: 0.405201\n",
      "[484]\tvalid_0's binary_logloss: 0.405187\n",
      "[485]\tvalid_0's binary_logloss: 0.405177\n",
      "[486]\tvalid_0's binary_logloss: 0.405185\n",
      "[487]\tvalid_0's binary_logloss: 0.405185\n",
      "[488]\tvalid_0's binary_logloss: 0.405122\n",
      "[489]\tvalid_0's binary_logloss: 0.405131\n",
      "[490]\tvalid_0's binary_logloss: 0.405134\n",
      "[491]\tvalid_0's binary_logloss: 0.405136\n",
      "[492]\tvalid_0's binary_logloss: 0.40514\n",
      "[493]\tvalid_0's binary_logloss: 0.405105\n",
      "[494]\tvalid_0's binary_logloss: 0.405069\n",
      "[495]\tvalid_0's binary_logloss: 0.405076\n",
      "[496]\tvalid_0's binary_logloss: 0.405078\n",
      "[497]\tvalid_0's binary_logloss: 0.405083\n",
      "[498]\tvalid_0's binary_logloss: 0.405061\n",
      "[499]\tvalid_0's binary_logloss: 0.405018\n",
      "[500]\tvalid_0's binary_logloss: 0.405014\n",
      "Did not meet early stopping. Best iteration is:\n",
      "[500]\tvalid_0's binary_logloss: 0.405014\n"
     ]
    }
   ],
   "source": [
    "import lightgbm as lgb\n",
    "params={}\n",
    "params['learning_rate']= 0.162\n",
    "params['boosting_type']='gbdt'\n",
    "params['objective']='binary'\n",
    "params['metric']='binary_logloss'\n",
    "params['sub_feature']=0.5\n",
    "params['num_leaves']= 10\n",
    "params['min_data']=50\n",
    "params['max_depth']=30\n",
    "d_train = lgb.Dataset(x_train, label=y_train )\n",
    "d_test =  lgb.Dataset( x_test, label= y_test)\n",
    "model=lgb.train(params,d_train,500,\n",
    "                valid_sets=d_test,verbose_eval=True,\n",
    "                early_stopping_rounds=20)"
   ]
  },
  {
   "cell_type": "raw",
   "metadata": {},
   "source": [
    "#if learning rate is fixed and rounds is increased to 300"
   ]
  },
  {
   "cell_type": "code",
   "execution_count": 59,
   "metadata": {},
   "outputs": [
    {
     "name": "stdout",
     "output_type": "stream",
     "text": [
      "[1]\tvalid_0's binary_logloss: 0.475444\n",
      "[2]\tvalid_0's binary_logloss: 0.470444\n",
      "[3]\tvalid_0's binary_logloss: 0.466851\n",
      "[4]\tvalid_0's binary_logloss: 0.463001"
     ]
    },
    {
     "name": "stderr",
     "output_type": "stream",
     "text": [
      "C:\\Users\\DELL\\Miniconda3\\lib\\site-packages\\lightgbm\\callback.py:192: UserWarning: Early stopping is not available in dart mode\n",
      "  warnings.warn('Early stopping is not available in dart mode')\n",
      "C:\\Users\\DELL\\Miniconda3\\lib\\site-packages\\lightgbm\\callback.py:192: UserWarning: Early stopping is not available in dart mode\n",
      "  warnings.warn('Early stopping is not available in dart mode')\n",
      "C:\\Users\\DELL\\Miniconda3\\lib\\site-packages\\lightgbm\\callback.py:192: UserWarning: Early stopping is not available in dart mode\n",
      "  warnings.warn('Early stopping is not available in dart mode')\n"
     ]
    },
    {
     "name": "stdout",
     "output_type": "stream",
     "text": [
      "\n",
      "[5]\tvalid_0's binary_logloss: 0.46034\n",
      "[6]\tvalid_0's binary_logloss: 0.457675\n",
      "[7]\tvalid_0's binary_logloss: 0.455067"
     ]
    },
    {
     "name": "stderr",
     "output_type": "stream",
     "text": [
      "C:\\Users\\DELL\\Miniconda3\\lib\\site-packages\\lightgbm\\callback.py:192: UserWarning: Early stopping is not available in dart mode\n",
      "  warnings.warn('Early stopping is not available in dart mode')\n",
      "C:\\Users\\DELL\\Miniconda3\\lib\\site-packages\\lightgbm\\callback.py:192: UserWarning: Early stopping is not available in dart mode\n",
      "  warnings.warn('Early stopping is not available in dart mode')\n",
      "C:\\Users\\DELL\\Miniconda3\\lib\\site-packages\\lightgbm\\callback.py:192: UserWarning: Early stopping is not available in dart mode\n",
      "  warnings.warn('Early stopping is not available in dart mode')\n",
      "C:\\Users\\DELL\\Miniconda3\\lib\\site-packages\\lightgbm\\callback.py:192: UserWarning: Early stopping is not available in dart mode\n",
      "  warnings.warn('Early stopping is not available in dart mode')\n"
     ]
    },
    {
     "name": "stdout",
     "output_type": "stream",
     "text": [
      "\n",
      "[8]\tvalid_0's binary_logloss: 0.456381\n"
     ]
    },
    {
     "name": "stderr",
     "output_type": "stream",
     "text": [
      "C:\\Users\\DELL\\Miniconda3\\lib\\site-packages\\lightgbm\\callback.py:192: UserWarning: Early stopping is not available in dart mode\n",
      "  warnings.warn('Early stopping is not available in dart mode')\n",
      "C:\\Users\\DELL\\Miniconda3\\lib\\site-packages\\lightgbm\\callback.py:192: UserWarning: Early stopping is not available in dart mode\n",
      "  warnings.warn('Early stopping is not available in dart mode')\n",
      "C:\\Users\\DELL\\Miniconda3\\lib\\site-packages\\lightgbm\\callback.py:192: UserWarning: Early stopping is not available in dart mode\n",
      "  warnings.warn('Early stopping is not available in dart mode')\n"
     ]
    },
    {
     "name": "stdout",
     "output_type": "stream",
     "text": [
      "[9]\tvalid_0's binary_logloss: 0.454925\n",
      "[10]\tvalid_0's binary_logloss: 0.453575\n",
      "[11]\tvalid_0's binary_logloss: 0.452183\n"
     ]
    },
    {
     "name": "stderr",
     "output_type": "stream",
     "text": [
      "C:\\Users\\DELL\\Miniconda3\\lib\\site-packages\\lightgbm\\callback.py:192: UserWarning: Early stopping is not available in dart mode\n",
      "  warnings.warn('Early stopping is not available in dart mode')\n",
      "C:\\Users\\DELL\\Miniconda3\\lib\\site-packages\\lightgbm\\callback.py:192: UserWarning: Early stopping is not available in dart mode\n",
      "  warnings.warn('Early stopping is not available in dart mode')\n"
     ]
    },
    {
     "name": "stdout",
     "output_type": "stream",
     "text": [
      "[12]\tvalid_0's binary_logloss: 0.452572\n",
      "[13]\tvalid_0's binary_logloss: 0.450861\n",
      "[14]\tvalid_0's binary_logloss: 0.449846\n",
      "[15]\tvalid_0's binary_logloss: 0.448876\n"
     ]
    },
    {
     "name": "stderr",
     "output_type": "stream",
     "text": [
      "C:\\Users\\DELL\\Miniconda3\\lib\\site-packages\\lightgbm\\callback.py:192: UserWarning: Early stopping is not available in dart mode\n",
      "  warnings.warn('Early stopping is not available in dart mode')\n",
      "C:\\Users\\DELL\\Miniconda3\\lib\\site-packages\\lightgbm\\callback.py:192: UserWarning: Early stopping is not available in dart mode\n",
      "  warnings.warn('Early stopping is not available in dart mode')\n",
      "C:\\Users\\DELL\\Miniconda3\\lib\\site-packages\\lightgbm\\callback.py:192: UserWarning: Early stopping is not available in dart mode\n",
      "  warnings.warn('Early stopping is not available in dart mode')\n",
      "C:\\Users\\DELL\\Miniconda3\\lib\\site-packages\\lightgbm\\callback.py:192: UserWarning: Early stopping is not available in dart mode\n",
      "  warnings.warn('Early stopping is not available in dart mode')\n"
     ]
    },
    {
     "name": "stdout",
     "output_type": "stream",
     "text": [
      "[16]\tvalid_0's binary_logloss: 0.448002\n",
      "[17]\tvalid_0's binary_logloss: 0.446015\n",
      "[18]\tvalid_0's binary_logloss: 0.444453\n"
     ]
    },
    {
     "name": "stderr",
     "output_type": "stream",
     "text": [
      "C:\\Users\\DELL\\Miniconda3\\lib\\site-packages\\lightgbm\\callback.py:192: UserWarning: Early stopping is not available in dart mode\n",
      "  warnings.warn('Early stopping is not available in dart mode')\n",
      "C:\\Users\\DELL\\Miniconda3\\lib\\site-packages\\lightgbm\\callback.py:192: UserWarning: Early stopping is not available in dart mode\n",
      "  warnings.warn('Early stopping is not available in dart mode')\n",
      "C:\\Users\\DELL\\Miniconda3\\lib\\site-packages\\lightgbm\\callback.py:192: UserWarning: Early stopping is not available in dart mode\n",
      "  warnings.warn('Early stopping is not available in dart mode')\n"
     ]
    },
    {
     "name": "stdout",
     "output_type": "stream",
     "text": [
      "[19]\tvalid_0's binary_logloss: 0.443003\n",
      "[20]\tvalid_0's binary_logloss: 0.442081\n",
      "[21]\tvalid_0's binary_logloss: 0.44243"
     ]
    },
    {
     "name": "stderr",
     "output_type": "stream",
     "text": [
      "C:\\Users\\DELL\\Miniconda3\\lib\\site-packages\\lightgbm\\callback.py:192: UserWarning: Early stopping is not available in dart mode\n",
      "  warnings.warn('Early stopping is not available in dart mode')\n",
      "C:\\Users\\DELL\\Miniconda3\\lib\\site-packages\\lightgbm\\callback.py:192: UserWarning: Early stopping is not available in dart mode\n",
      "  warnings.warn('Early stopping is not available in dart mode')\n"
     ]
    },
    {
     "name": "stdout",
     "output_type": "stream",
     "text": [
      "\n",
      "[22]\tvalid_0's binary_logloss: 0.441203\n",
      "[23]\tvalid_0's binary_logloss: 0.440238\n",
      "[24]\tvalid_0's binary_logloss: 0.439281"
     ]
    },
    {
     "name": "stderr",
     "output_type": "stream",
     "text": [
      "C:\\Users\\DELL\\Miniconda3\\lib\\site-packages\\lightgbm\\callback.py:192: UserWarning: Early stopping is not available in dart mode\n",
      "  warnings.warn('Early stopping is not available in dart mode')\n",
      "C:\\Users\\DELL\\Miniconda3\\lib\\site-packages\\lightgbm\\callback.py:192: UserWarning: Early stopping is not available in dart mode\n",
      "  warnings.warn('Early stopping is not available in dart mode')\n",
      "C:\\Users\\DELL\\Miniconda3\\lib\\site-packages\\lightgbm\\callback.py:192: UserWarning: Early stopping is not available in dart mode\n",
      "  warnings.warn('Early stopping is not available in dart mode')\n"
     ]
    },
    {
     "name": "stdout",
     "output_type": "stream",
     "text": [
      "\n",
      "[25]\tvalid_0's binary_logloss: 0.438717\n",
      "[26]\tvalid_0's binary_logloss: 0.437891\n",
      "[27]\tvalid_0's binary_logloss: 0.437064"
     ]
    },
    {
     "name": "stderr",
     "output_type": "stream",
     "text": [
      "C:\\Users\\DELL\\Miniconda3\\lib\\site-packages\\lightgbm\\callback.py:192: UserWarning: Early stopping is not available in dart mode\n",
      "  warnings.warn('Early stopping is not available in dart mode')\n",
      "C:\\Users\\DELL\\Miniconda3\\lib\\site-packages\\lightgbm\\callback.py:192: UserWarning: Early stopping is not available in dart mode\n",
      "  warnings.warn('Early stopping is not available in dart mode')\n",
      "C:\\Users\\DELL\\Miniconda3\\lib\\site-packages\\lightgbm\\callback.py:192: UserWarning: Early stopping is not available in dart mode\n",
      "  warnings.warn('Early stopping is not available in dart mode')\n"
     ]
    },
    {
     "name": "stdout",
     "output_type": "stream",
     "text": [
      "\n",
      "[28]\tvalid_0's binary_logloss: 0.437264\n"
     ]
    },
    {
     "name": "stderr",
     "output_type": "stream",
     "text": [
      "C:\\Users\\DELL\\Miniconda3\\lib\\site-packages\\lightgbm\\callback.py:192: UserWarning: Early stopping is not available in dart mode\n",
      "  warnings.warn('Early stopping is not available in dart mode')\n",
      "C:\\Users\\DELL\\Miniconda3\\lib\\site-packages\\lightgbm\\callback.py:192: UserWarning: Early stopping is not available in dart mode\n",
      "  warnings.warn('Early stopping is not available in dart mode')\n",
      "C:\\Users\\DELL\\Miniconda3\\lib\\site-packages\\lightgbm\\callback.py:192: UserWarning: Early stopping is not available in dart mode\n",
      "  warnings.warn('Early stopping is not available in dart mode')\n"
     ]
    },
    {
     "name": "stdout",
     "output_type": "stream",
     "text": [
      "[29]\tvalid_0's binary_logloss: 0.436515\n",
      "[30]\tvalid_0's binary_logloss: 0.435799\n",
      "[31]\tvalid_0's binary_logloss: 0.435731\n"
     ]
    },
    {
     "name": "stderr",
     "output_type": "stream",
     "text": [
      "C:\\Users\\DELL\\Miniconda3\\lib\\site-packages\\lightgbm\\callback.py:192: UserWarning: Early stopping is not available in dart mode\n",
      "  warnings.warn('Early stopping is not available in dart mode')\n",
      "C:\\Users\\DELL\\Miniconda3\\lib\\site-packages\\lightgbm\\callback.py:192: UserWarning: Early stopping is not available in dart mode\n",
      "  warnings.warn('Early stopping is not available in dart mode')\n",
      "C:\\Users\\DELL\\Miniconda3\\lib\\site-packages\\lightgbm\\callback.py:192: UserWarning: Early stopping is not available in dart mode\n",
      "  warnings.warn('Early stopping is not available in dart mode')\n"
     ]
    },
    {
     "name": "stdout",
     "output_type": "stream",
     "text": [
      "[32]\tvalid_0's binary_logloss: 0.435221\n",
      "[33]\tvalid_0's binary_logloss: 0.434356\n",
      "[34]\tvalid_0's binary_logloss: 0.433828\n"
     ]
    },
    {
     "name": "stderr",
     "output_type": "stream",
     "text": [
      "C:\\Users\\DELL\\Miniconda3\\lib\\site-packages\\lightgbm\\callback.py:192: UserWarning: Early stopping is not available in dart mode\n",
      "  warnings.warn('Early stopping is not available in dart mode')\n"
     ]
    },
    {
     "name": "stdout",
     "output_type": "stream",
     "text": [
      "[35]\tvalid_0's binary_logloss: 0.43422\n"
     ]
    },
    {
     "name": "stderr",
     "output_type": "stream",
     "text": [
      "C:\\Users\\DELL\\Miniconda3\\lib\\site-packages\\lightgbm\\callback.py:192: UserWarning: Early stopping is not available in dart mode\n",
      "  warnings.warn('Early stopping is not available in dart mode')\n"
     ]
    },
    {
     "name": "stdout",
     "output_type": "stream",
     "text": [
      "[36]\tvalid_0's binary_logloss: 0.43479\n",
      "[37]\tvalid_0's binary_logloss: 0.434298\n",
      "[38]\tvalid_0's binary_logloss: 0.43376\n",
      "[39]\tvalid_0's binary_logloss: 0.433051"
     ]
    },
    {
     "name": "stderr",
     "output_type": "stream",
     "text": [
      "C:\\Users\\DELL\\Miniconda3\\lib\\site-packages\\lightgbm\\callback.py:192: UserWarning: Early stopping is not available in dart mode\n",
      "  warnings.warn('Early stopping is not available in dart mode')\n",
      "C:\\Users\\DELL\\Miniconda3\\lib\\site-packages\\lightgbm\\callback.py:192: UserWarning: Early stopping is not available in dart mode\n",
      "  warnings.warn('Early stopping is not available in dart mode')\n",
      "C:\\Users\\DELL\\Miniconda3\\lib\\site-packages\\lightgbm\\callback.py:192: UserWarning: Early stopping is not available in dart mode\n",
      "  warnings.warn('Early stopping is not available in dart mode')\n"
     ]
    },
    {
     "name": "stdout",
     "output_type": "stream",
     "text": [
      "\n",
      "[40]\tvalid_0's binary_logloss: 0.432898\n"
     ]
    },
    {
     "name": "stderr",
     "output_type": "stream",
     "text": [
      "C:\\Users\\DELL\\Miniconda3\\lib\\site-packages\\lightgbm\\callback.py:192: UserWarning: Early stopping is not available in dart mode\n",
      "  warnings.warn('Early stopping is not available in dart mode')\n",
      "C:\\Users\\DELL\\Miniconda3\\lib\\site-packages\\lightgbm\\callback.py:192: UserWarning: Early stopping is not available in dart mode\n",
      "  warnings.warn('Early stopping is not available in dart mode')\n"
     ]
    },
    {
     "name": "stdout",
     "output_type": "stream",
     "text": [
      "[41]\tvalid_0's binary_logloss: 0.433283\n",
      "[42]\tvalid_0's binary_logloss: 0.432736\n"
     ]
    },
    {
     "name": "stderr",
     "output_type": "stream",
     "text": [
      "C:\\Users\\DELL\\Miniconda3\\lib\\site-packages\\lightgbm\\callback.py:192: UserWarning: Early stopping is not available in dart mode\n",
      "  warnings.warn('Early stopping is not available in dart mode')\n",
      "C:\\Users\\DELL\\Miniconda3\\lib\\site-packages\\lightgbm\\callback.py:192: UserWarning: Early stopping is not available in dart mode\n",
      "  warnings.warn('Early stopping is not available in dart mode')\n"
     ]
    },
    {
     "name": "stdout",
     "output_type": "stream",
     "text": [
      "[43]\tvalid_0's binary_logloss: 0.433019\n",
      "[44]\tvalid_0's binary_logloss: 0.432369\n",
      "[45]\tvalid_0's binary_logloss: 0.431889\n"
     ]
    },
    {
     "name": "stderr",
     "output_type": "stream",
     "text": [
      "C:\\Users\\DELL\\Miniconda3\\lib\\site-packages\\lightgbm\\callback.py:192: UserWarning: Early stopping is not available in dart mode\n",
      "  warnings.warn('Early stopping is not available in dart mode')\n",
      "C:\\Users\\DELL\\Miniconda3\\lib\\site-packages\\lightgbm\\callback.py:192: UserWarning: Early stopping is not available in dart mode\n",
      "  warnings.warn('Early stopping is not available in dart mode')\n",
      "C:\\Users\\DELL\\Miniconda3\\lib\\site-packages\\lightgbm\\callback.py:192: UserWarning: Early stopping is not available in dart mode\n",
      "  warnings.warn('Early stopping is not available in dart mode')\n"
     ]
    },
    {
     "name": "stdout",
     "output_type": "stream",
     "text": [
      "[46]\tvalid_0's binary_logloss: 0.434396\n",
      "[47]\tvalid_0's binary_logloss: 0.43335\n",
      "[48]\tvalid_0's binary_logloss: 0.433168\n"
     ]
    },
    {
     "name": "stderr",
     "output_type": "stream",
     "text": [
      "C:\\Users\\DELL\\Miniconda3\\lib\\site-packages\\lightgbm\\callback.py:192: UserWarning: Early stopping is not available in dart mode\n",
      "  warnings.warn('Early stopping is not available in dart mode')\n",
      "C:\\Users\\DELL\\Miniconda3\\lib\\site-packages\\lightgbm\\callback.py:192: UserWarning: Early stopping is not available in dart mode\n",
      "  warnings.warn('Early stopping is not available in dart mode')\n",
      "C:\\Users\\DELL\\Miniconda3\\lib\\site-packages\\lightgbm\\callback.py:192: UserWarning: Early stopping is not available in dart mode\n",
      "  warnings.warn('Early stopping is not available in dart mode')\n"
     ]
    },
    {
     "name": "stdout",
     "output_type": "stream",
     "text": [
      "[49]\tvalid_0's binary_logloss: 0.433448\n"
     ]
    },
    {
     "name": "stderr",
     "output_type": "stream",
     "text": [
      "C:\\Users\\DELL\\Miniconda3\\lib\\site-packages\\lightgbm\\callback.py:192: UserWarning: Early stopping is not available in dart mode\n",
      "  warnings.warn('Early stopping is not available in dart mode')\n"
     ]
    },
    {
     "name": "stdout",
     "output_type": "stream",
     "text": [
      "[50]\tvalid_0's binary_logloss: 0.433997\n",
      "[51]\tvalid_0's binary_logloss: 0.433214\n",
      "[52]\tvalid_0's binary_logloss: 0.432467\n"
     ]
    },
    {
     "name": "stderr",
     "output_type": "stream",
     "text": [
      "C:\\Users\\DELL\\Miniconda3\\lib\\site-packages\\lightgbm\\callback.py:192: UserWarning: Early stopping is not available in dart mode\n",
      "  warnings.warn('Early stopping is not available in dart mode')\n",
      "C:\\Users\\DELL\\Miniconda3\\lib\\site-packages\\lightgbm\\callback.py:192: UserWarning: Early stopping is not available in dart mode\n",
      "  warnings.warn('Early stopping is not available in dart mode')\n",
      "C:\\Users\\DELL\\Miniconda3\\lib\\site-packages\\lightgbm\\callback.py:192: UserWarning: Early stopping is not available in dart mode\n",
      "  warnings.warn('Early stopping is not available in dart mode')\n"
     ]
    },
    {
     "name": "stdout",
     "output_type": "stream",
     "text": [
      "[53]\tvalid_0's binary_logloss: 0.432834\n",
      "[54]\tvalid_0's binary_logloss: 0.431963\n",
      "[55]\tvalid_0's binary_logloss: 0.431367\n"
     ]
    },
    {
     "name": "stderr",
     "output_type": "stream",
     "text": [
      "C:\\Users\\DELL\\Miniconda3\\lib\\site-packages\\lightgbm\\callback.py:192: UserWarning: Early stopping is not available in dart mode\n",
      "  warnings.warn('Early stopping is not available in dart mode')\n",
      "C:\\Users\\DELL\\Miniconda3\\lib\\site-packages\\lightgbm\\callback.py:192: UserWarning: Early stopping is not available in dart mode\n",
      "  warnings.warn('Early stopping is not available in dart mode')\n",
      "C:\\Users\\DELL\\Miniconda3\\lib\\site-packages\\lightgbm\\callback.py:192: UserWarning: Early stopping is not available in dart mode\n",
      "  warnings.warn('Early stopping is not available in dart mode')\n"
     ]
    },
    {
     "name": "stdout",
     "output_type": "stream",
     "text": [
      "[56]\tvalid_0's binary_logloss: 0.431749\n",
      "[57]\tvalid_0's binary_logloss: 0.431334\n"
     ]
    },
    {
     "name": "stderr",
     "output_type": "stream",
     "text": [
      "C:\\Users\\DELL\\Miniconda3\\lib\\site-packages\\lightgbm\\callback.py:192: UserWarning: Early stopping is not available in dart mode\n",
      "  warnings.warn('Early stopping is not available in dart mode')\n",
      "C:\\Users\\DELL\\Miniconda3\\lib\\site-packages\\lightgbm\\callback.py:192: UserWarning: Early stopping is not available in dart mode\n",
      "  warnings.warn('Early stopping is not available in dart mode')\n"
     ]
    },
    {
     "name": "stdout",
     "output_type": "stream",
     "text": [
      "[58]\tvalid_0's binary_logloss: 0.435066\n"
     ]
    },
    {
     "name": "stderr",
     "output_type": "stream",
     "text": [
      "C:\\Users\\DELL\\Miniconda3\\lib\\site-packages\\lightgbm\\callback.py:192: UserWarning: Early stopping is not available in dart mode\n",
      "  warnings.warn('Early stopping is not available in dart mode')\n"
     ]
    },
    {
     "name": "stdout",
     "output_type": "stream",
     "text": [
      "[59]\tvalid_0's binary_logloss: 0.43535\n",
      "[60]\tvalid_0's binary_logloss: 0.434028\n"
     ]
    },
    {
     "name": "stderr",
     "output_type": "stream",
     "text": [
      "C:\\Users\\DELL\\Miniconda3\\lib\\site-packages\\lightgbm\\callback.py:192: UserWarning: Early stopping is not available in dart mode\n",
      "  warnings.warn('Early stopping is not available in dart mode')\n",
      "C:\\Users\\DELL\\Miniconda3\\lib\\site-packages\\lightgbm\\callback.py:192: UserWarning: Early stopping is not available in dart mode\n",
      "  warnings.warn('Early stopping is not available in dart mode')\n"
     ]
    },
    {
     "name": "stdout",
     "output_type": "stream",
     "text": [
      "[61]\tvalid_0's binary_logloss: 0.439565\n",
      "[62]\tvalid_0's binary_logloss: 0.437228\n",
      "[63]\tvalid_0's binary_logloss: 0.435408\n"
     ]
    },
    {
     "name": "stderr",
     "output_type": "stream",
     "text": [
      "C:\\Users\\DELL\\Miniconda3\\lib\\site-packages\\lightgbm\\callback.py:192: UserWarning: Early stopping is not available in dart mode\n",
      "  warnings.warn('Early stopping is not available in dart mode')\n",
      "C:\\Users\\DELL\\Miniconda3\\lib\\site-packages\\lightgbm\\callback.py:192: UserWarning: Early stopping is not available in dart mode\n",
      "  warnings.warn('Early stopping is not available in dart mode')\n",
      "C:\\Users\\DELL\\Miniconda3\\lib\\site-packages\\lightgbm\\callback.py:192: UserWarning: Early stopping is not available in dart mode\n",
      "  warnings.warn('Early stopping is not available in dart mode')\n"
     ]
    },
    {
     "name": "stdout",
     "output_type": "stream",
     "text": [
      "[64]\tvalid_0's binary_logloss: 0.435606\n"
     ]
    },
    {
     "name": "stderr",
     "output_type": "stream",
     "text": [
      "C:\\Users\\DELL\\Miniconda3\\lib\\site-packages\\lightgbm\\callback.py:192: UserWarning: Early stopping is not available in dart mode\n",
      "  warnings.warn('Early stopping is not available in dart mode')\n"
     ]
    },
    {
     "name": "stdout",
     "output_type": "stream",
     "text": [
      "[65]\tvalid_0's binary_logloss: 0.435985\n",
      "[66]\tvalid_0's binary_logloss: 0.434428\n",
      "[67]\tvalid_0's binary_logloss: 0.43306\n"
     ]
    },
    {
     "name": "stderr",
     "output_type": "stream",
     "text": [
      "C:\\Users\\DELL\\Miniconda3\\lib\\site-packages\\lightgbm\\callback.py:192: UserWarning: Early stopping is not available in dart mode\n",
      "  warnings.warn('Early stopping is not available in dart mode')\n",
      "C:\\Users\\DELL\\Miniconda3\\lib\\site-packages\\lightgbm\\callback.py:192: UserWarning: Early stopping is not available in dart mode\n",
      "  warnings.warn('Early stopping is not available in dart mode')\n",
      "C:\\Users\\DELL\\Miniconda3\\lib\\site-packages\\lightgbm\\callback.py:192: UserWarning: Early stopping is not available in dart mode\n",
      "  warnings.warn('Early stopping is not available in dart mode')\n"
     ]
    },
    {
     "name": "stdout",
     "output_type": "stream",
     "text": [
      "[68]\tvalid_0's binary_logloss: 0.432014\n"
     ]
    },
    {
     "name": "stderr",
     "output_type": "stream",
     "text": [
      "C:\\Users\\DELL\\Miniconda3\\lib\\site-packages\\lightgbm\\callback.py:192: UserWarning: Early stopping is not available in dart mode\n",
      "  warnings.warn('Early stopping is not available in dart mode')\n"
     ]
    },
    {
     "name": "stdout",
     "output_type": "stream",
     "text": [
      "[69]\tvalid_0's binary_logloss: 0.4323\n"
     ]
    },
    {
     "name": "stderr",
     "output_type": "stream",
     "text": [
      "C:\\Users\\DELL\\Miniconda3\\lib\\site-packages\\lightgbm\\callback.py:192: UserWarning: Early stopping is not available in dart mode\n",
      "  warnings.warn('Early stopping is not available in dart mode')\n"
     ]
    },
    {
     "name": "stdout",
     "output_type": "stream",
     "text": [
      "[70]\tvalid_0's binary_logloss: 0.432461\n",
      "[71]\tvalid_0's binary_logloss: 0.432559"
     ]
    },
    {
     "name": "stderr",
     "output_type": "stream",
     "text": [
      "C:\\Users\\DELL\\Miniconda3\\lib\\site-packages\\lightgbm\\callback.py:192: UserWarning: Early stopping is not available in dart mode\n",
      "  warnings.warn('Early stopping is not available in dart mode')\n"
     ]
    },
    {
     "name": "stdout",
     "output_type": "stream",
     "text": [
      "\n",
      "[72]\tvalid_0's binary_logloss: 0.43186\n",
      "[73]\tvalid_0's binary_logloss: 0.431125\n"
     ]
    },
    {
     "name": "stderr",
     "output_type": "stream",
     "text": [
      "C:\\Users\\DELL\\Miniconda3\\lib\\site-packages\\lightgbm\\callback.py:192: UserWarning: Early stopping is not available in dart mode\n",
      "  warnings.warn('Early stopping is not available in dart mode')\n",
      "C:\\Users\\DELL\\Miniconda3\\lib\\site-packages\\lightgbm\\callback.py:192: UserWarning: Early stopping is not available in dart mode\n",
      "  warnings.warn('Early stopping is not available in dart mode')\n",
      "C:\\Users\\DELL\\Miniconda3\\lib\\site-packages\\lightgbm\\callback.py:192: UserWarning: Early stopping is not available in dart mode\n",
      "  warnings.warn('Early stopping is not available in dart mode')\n"
     ]
    },
    {
     "name": "stdout",
     "output_type": "stream",
     "text": [
      "[74]\tvalid_0's binary_logloss: 0.431378\n",
      "[75]\tvalid_0's binary_logloss: 0.43085\n"
     ]
    },
    {
     "name": "stderr",
     "output_type": "stream",
     "text": [
      "C:\\Users\\DELL\\Miniconda3\\lib\\site-packages\\lightgbm\\callback.py:192: UserWarning: Early stopping is not available in dart mode\n",
      "  warnings.warn('Early stopping is not available in dart mode')\n",
      "C:\\Users\\DELL\\Miniconda3\\lib\\site-packages\\lightgbm\\callback.py:192: UserWarning: Early stopping is not available in dart mode\n",
      "  warnings.warn('Early stopping is not available in dart mode')\n"
     ]
    },
    {
     "name": "stdout",
     "output_type": "stream",
     "text": [
      "[76]\tvalid_0's binary_logloss: 0.430811\n"
     ]
    },
    {
     "name": "stderr",
     "output_type": "stream",
     "text": [
      "C:\\Users\\DELL\\Miniconda3\\lib\\site-packages\\lightgbm\\callback.py:192: UserWarning: Early stopping is not available in dart mode\n",
      "  warnings.warn('Early stopping is not available in dart mode')\n"
     ]
    },
    {
     "name": "stdout",
     "output_type": "stream",
     "text": [
      "[77]\tvalid_0's binary_logloss: 0.431064\n"
     ]
    },
    {
     "name": "stderr",
     "output_type": "stream",
     "text": [
      "C:\\Users\\DELL\\Miniconda3\\lib\\site-packages\\lightgbm\\callback.py:192: UserWarning: Early stopping is not available in dart mode\n",
      "  warnings.warn('Early stopping is not available in dart mode')\n"
     ]
    },
    {
     "name": "stdout",
     "output_type": "stream",
     "text": [
      "[78]\tvalid_0's binary_logloss: 0.431391\n",
      "[79]\tvalid_0's binary_logloss: 0.430727\n",
      "[80]\tvalid_0's binary_logloss: 0.430198\n"
     ]
    },
    {
     "name": "stderr",
     "output_type": "stream",
     "text": [
      "C:\\Users\\DELL\\Miniconda3\\lib\\site-packages\\lightgbm\\callback.py:192: UserWarning: Early stopping is not available in dart mode\n",
      "  warnings.warn('Early stopping is not available in dart mode')\n",
      "C:\\Users\\DELL\\Miniconda3\\lib\\site-packages\\lightgbm\\callback.py:192: UserWarning: Early stopping is not available in dart mode\n",
      "  warnings.warn('Early stopping is not available in dart mode')\n",
      "C:\\Users\\DELL\\Miniconda3\\lib\\site-packages\\lightgbm\\callback.py:192: UserWarning: Early stopping is not available in dart mode\n",
      "  warnings.warn('Early stopping is not available in dart mode')\n"
     ]
    },
    {
     "name": "stdout",
     "output_type": "stream",
     "text": [
      "[81]\tvalid_0's binary_logloss: 0.430495\n",
      "[82]\tvalid_0's binary_logloss: 0.429868\n"
     ]
    },
    {
     "name": "stderr",
     "output_type": "stream",
     "text": [
      "C:\\Users\\DELL\\Miniconda3\\lib\\site-packages\\lightgbm\\callback.py:192: UserWarning: Early stopping is not available in dart mode\n",
      "  warnings.warn('Early stopping is not available in dart mode')\n",
      "C:\\Users\\DELL\\Miniconda3\\lib\\site-packages\\lightgbm\\callback.py:192: UserWarning: Early stopping is not available in dart mode\n",
      "  warnings.warn('Early stopping is not available in dart mode')\n"
     ]
    },
    {
     "name": "stdout",
     "output_type": "stream",
     "text": [
      "[83]\tvalid_0's binary_logloss: 0.43019\n"
     ]
    },
    {
     "name": "stderr",
     "output_type": "stream",
     "text": [
      "C:\\Users\\DELL\\Miniconda3\\lib\\site-packages\\lightgbm\\callback.py:192: UserWarning: Early stopping is not available in dart mode\n",
      "  warnings.warn('Early stopping is not available in dart mode')\n"
     ]
    },
    {
     "name": "stdout",
     "output_type": "stream",
     "text": [
      "[84]\tvalid_0's binary_logloss: 0.430414\n"
     ]
    },
    {
     "name": "stderr",
     "output_type": "stream",
     "text": [
      "C:\\Users\\DELL\\Miniconda3\\lib\\site-packages\\lightgbm\\callback.py:192: UserWarning: Early stopping is not available in dart mode\n",
      "  warnings.warn('Early stopping is not available in dart mode')\n"
     ]
    },
    {
     "name": "stdout",
     "output_type": "stream",
     "text": [
      "[85]\tvalid_0's binary_logloss: 0.430763\n",
      "[86]\tvalid_0's binary_logloss: 0.430325\n",
      "[87]\tvalid_0's binary_logloss: 0.429893\n"
     ]
    },
    {
     "name": "stderr",
     "output_type": "stream",
     "text": [
      "C:\\Users\\DELL\\Miniconda3\\lib\\site-packages\\lightgbm\\callback.py:192: UserWarning: Early stopping is not available in dart mode\n",
      "  warnings.warn('Early stopping is not available in dart mode')\n",
      "C:\\Users\\DELL\\Miniconda3\\lib\\site-packages\\lightgbm\\callback.py:192: UserWarning: Early stopping is not available in dart mode\n",
      "  warnings.warn('Early stopping is not available in dart mode')\n",
      "C:\\Users\\DELL\\Miniconda3\\lib\\site-packages\\lightgbm\\callback.py:192: UserWarning: Early stopping is not available in dart mode\n",
      "  warnings.warn('Early stopping is not available in dart mode')\n"
     ]
    },
    {
     "name": "stdout",
     "output_type": "stream",
     "text": [
      "[88]\tvalid_0's binary_logloss: 0.430232\n"
     ]
    },
    {
     "name": "stderr",
     "output_type": "stream",
     "text": [
      "C:\\Users\\DELL\\Miniconda3\\lib\\site-packages\\lightgbm\\callback.py:192: UserWarning: Early stopping is not available in dart mode\n",
      "  warnings.warn('Early stopping is not available in dart mode')\n"
     ]
    },
    {
     "name": "stdout",
     "output_type": "stream",
     "text": [
      "[89]\tvalid_0's binary_logloss: 0.430487\n"
     ]
    },
    {
     "name": "stderr",
     "output_type": "stream",
     "text": [
      "C:\\Users\\DELL\\Miniconda3\\lib\\site-packages\\lightgbm\\callback.py:192: UserWarning: Early stopping is not available in dart mode\n",
      "  warnings.warn('Early stopping is not available in dart mode')\n"
     ]
    },
    {
     "name": "stdout",
     "output_type": "stream",
     "text": [
      "[90]\tvalid_0's binary_logloss: 0.430779\n"
     ]
    },
    {
     "name": "stderr",
     "output_type": "stream",
     "text": [
      "C:\\Users\\DELL\\Miniconda3\\lib\\site-packages\\lightgbm\\callback.py:192: UserWarning: Early stopping is not available in dart mode\n",
      "  warnings.warn('Early stopping is not available in dart mode')\n"
     ]
    },
    {
     "name": "stdout",
     "output_type": "stream",
     "text": [
      "[91]\tvalid_0's binary_logloss: 0.433197\n",
      "[92]\tvalid_0's binary_logloss: 0.432228\n",
      "[93]\tvalid_0's binary_logloss: 0.43128\n"
     ]
    },
    {
     "name": "stderr",
     "output_type": "stream",
     "text": [
      "C:\\Users\\DELL\\Miniconda3\\lib\\site-packages\\lightgbm\\callback.py:192: UserWarning: Early stopping is not available in dart mode\n",
      "  warnings.warn('Early stopping is not available in dart mode')\n",
      "C:\\Users\\DELL\\Miniconda3\\lib\\site-packages\\lightgbm\\callback.py:192: UserWarning: Early stopping is not available in dart mode\n",
      "  warnings.warn('Early stopping is not available in dart mode')\n",
      "C:\\Users\\DELL\\Miniconda3\\lib\\site-packages\\lightgbm\\callback.py:192: UserWarning: Early stopping is not available in dart mode\n",
      "  warnings.warn('Early stopping is not available in dart mode')\n"
     ]
    },
    {
     "name": "stdout",
     "output_type": "stream",
     "text": [
      "[94]\tvalid_0's binary_logloss: 0.431726\n"
     ]
    },
    {
     "name": "stderr",
     "output_type": "stream",
     "text": [
      "C:\\Users\\DELL\\Miniconda3\\lib\\site-packages\\lightgbm\\callback.py:192: UserWarning: Early stopping is not available in dart mode\n",
      "  warnings.warn('Early stopping is not available in dart mode')\n"
     ]
    },
    {
     "name": "stdout",
     "output_type": "stream",
     "text": [
      "[95]\tvalid_0's binary_logloss: 0.431961\n"
     ]
    },
    {
     "name": "stderr",
     "output_type": "stream",
     "text": [
      "C:\\Users\\DELL\\Miniconda3\\lib\\site-packages\\lightgbm\\callback.py:192: UserWarning: Early stopping is not available in dart mode\n",
      "  warnings.warn('Early stopping is not available in dart mode')\n"
     ]
    },
    {
     "name": "stdout",
     "output_type": "stream",
     "text": [
      "[96]\tvalid_0's binary_logloss: 0.432275\n",
      "[97]\tvalid_0's binary_logloss: 0.431408\n"
     ]
    },
    {
     "name": "stderr",
     "output_type": "stream",
     "text": [
      "C:\\Users\\DELL\\Miniconda3\\lib\\site-packages\\lightgbm\\callback.py:192: UserWarning: Early stopping is not available in dart mode\n",
      "  warnings.warn('Early stopping is not available in dart mode')\n",
      "C:\\Users\\DELL\\Miniconda3\\lib\\site-packages\\lightgbm\\callback.py:192: UserWarning: Early stopping is not available in dart mode\n",
      "  warnings.warn('Early stopping is not available in dart mode')\n"
     ]
    },
    {
     "name": "stdout",
     "output_type": "stream",
     "text": [
      "[98]\tvalid_0's binary_logloss: 0.431691\n",
      "[99]\tvalid_0's binary_logloss: 0.431025\n",
      "[100]\tvalid_0's binary_logloss: 0.430374\n"
     ]
    },
    {
     "name": "stderr",
     "output_type": "stream",
     "text": [
      "C:\\Users\\DELL\\Miniconda3\\lib\\site-packages\\lightgbm\\callback.py:192: UserWarning: Early stopping is not available in dart mode\n",
      "  warnings.warn('Early stopping is not available in dart mode')\n",
      "C:\\Users\\DELL\\Miniconda3\\lib\\site-packages\\lightgbm\\callback.py:192: UserWarning: Early stopping is not available in dart mode\n",
      "  warnings.warn('Early stopping is not available in dart mode')\n",
      "C:\\Users\\DELL\\Miniconda3\\lib\\site-packages\\lightgbm\\callback.py:192: UserWarning: Early stopping is not available in dart mode\n",
      "  warnings.warn('Early stopping is not available in dart mode')\n"
     ]
    },
    {
     "name": "stdout",
     "output_type": "stream",
     "text": [
      "[101]\tvalid_0's binary_logloss: 0.431686\n"
     ]
    },
    {
     "name": "stderr",
     "output_type": "stream",
     "text": [
      "C:\\Users\\DELL\\Miniconda3\\lib\\site-packages\\lightgbm\\callback.py:192: UserWarning: Early stopping is not available in dart mode\n",
      "  warnings.warn('Early stopping is not available in dart mode')\n"
     ]
    },
    {
     "name": "stdout",
     "output_type": "stream",
     "text": [
      "[102]\tvalid_0's binary_logloss: 0.432017\n"
     ]
    },
    {
     "name": "stderr",
     "output_type": "stream",
     "text": [
      "C:\\Users\\DELL\\Miniconda3\\lib\\site-packages\\lightgbm\\callback.py:192: UserWarning: Early stopping is not available in dart mode\n",
      "  warnings.warn('Early stopping is not available in dart mode')\n"
     ]
    },
    {
     "name": "stdout",
     "output_type": "stream",
     "text": [
      "[103]\tvalid_0's binary_logloss: 0.432406\n",
      "[104]\tvalid_0's binary_logloss: 0.431411\n"
     ]
    },
    {
     "name": "stderr",
     "output_type": "stream",
     "text": [
      "C:\\Users\\DELL\\Miniconda3\\lib\\site-packages\\lightgbm\\callback.py:192: UserWarning: Early stopping is not available in dart mode\n",
      "  warnings.warn('Early stopping is not available in dart mode')\n",
      "C:\\Users\\DELL\\Miniconda3\\lib\\site-packages\\lightgbm\\callback.py:192: UserWarning: Early stopping is not available in dart mode\n",
      "  warnings.warn('Early stopping is not available in dart mode')\n"
     ]
    },
    {
     "name": "stdout",
     "output_type": "stream",
     "text": [
      "[105]\tvalid_0's binary_logloss: 0.432897\n"
     ]
    },
    {
     "name": "stderr",
     "output_type": "stream",
     "text": [
      "C:\\Users\\DELL\\Miniconda3\\lib\\site-packages\\lightgbm\\callback.py:192: UserWarning: Early stopping is not available in dart mode\n",
      "  warnings.warn('Early stopping is not available in dart mode')\n"
     ]
    },
    {
     "name": "stdout",
     "output_type": "stream",
     "text": [
      "[106]\tvalid_0's binary_logloss: 0.43322\n"
     ]
    },
    {
     "name": "stderr",
     "output_type": "stream",
     "text": [
      "C:\\Users\\DELL\\Miniconda3\\lib\\site-packages\\lightgbm\\callback.py:192: UserWarning: Early stopping is not available in dart mode\n",
      "  warnings.warn('Early stopping is not available in dart mode')\n"
     ]
    },
    {
     "name": "stdout",
     "output_type": "stream",
     "text": [
      "[107]\tvalid_0's binary_logloss: 0.433642\n",
      "[108]\tvalid_0's binary_logloss: 0.432496\n"
     ]
    },
    {
     "name": "stderr",
     "output_type": "stream",
     "text": [
      "C:\\Users\\DELL\\Miniconda3\\lib\\site-packages\\lightgbm\\callback.py:192: UserWarning: Early stopping is not available in dart mode\n",
      "  warnings.warn('Early stopping is not available in dart mode')\n",
      "C:\\Users\\DELL\\Miniconda3\\lib\\site-packages\\lightgbm\\callback.py:192: UserWarning: Early stopping is not available in dart mode\n",
      "  warnings.warn('Early stopping is not available in dart mode')\n"
     ]
    },
    {
     "name": "stdout",
     "output_type": "stream",
     "text": [
      "[109]\tvalid_0's binary_logloss: 0.432816\n"
     ]
    },
    {
     "name": "stderr",
     "output_type": "stream",
     "text": [
      "C:\\Users\\DELL\\Miniconda3\\lib\\site-packages\\lightgbm\\callback.py:192: UserWarning: Early stopping is not available in dart mode\n",
      "  warnings.warn('Early stopping is not available in dart mode')\n"
     ]
    },
    {
     "name": "stdout",
     "output_type": "stream",
     "text": [
      "[110]\tvalid_0's binary_logloss: 0.433141\n",
      "[111]\tvalid_0's binary_logloss: 0.432076\n",
      "[112]\tvalid_0's binary_logloss: 0.431093\n",
      "[113]\tvalid_0's binary_logloss: 0.430428"
     ]
    },
    {
     "name": "stderr",
     "output_type": "stream",
     "text": [
      "C:\\Users\\DELL\\Miniconda3\\lib\\site-packages\\lightgbm\\callback.py:192: UserWarning: Early stopping is not available in dart mode\n",
      "  warnings.warn('Early stopping is not available in dart mode')\n",
      "C:\\Users\\DELL\\Miniconda3\\lib\\site-packages\\lightgbm\\callback.py:192: UserWarning: Early stopping is not available in dart mode\n",
      "  warnings.warn('Early stopping is not available in dart mode')\n",
      "C:\\Users\\DELL\\Miniconda3\\lib\\site-packages\\lightgbm\\callback.py:192: UserWarning: Early stopping is not available in dart mode\n",
      "  warnings.warn('Early stopping is not available in dart mode')\n"
     ]
    },
    {
     "name": "stdout",
     "output_type": "stream",
     "text": [
      "\n",
      "[114]\tvalid_0's binary_logloss: 0.429851\n",
      "[115]\tvalid_0's binary_logloss: 0.429381\n",
      "[116]\tvalid_0's binary_logloss: 0.428835"
     ]
    },
    {
     "name": "stderr",
     "output_type": "stream",
     "text": [
      "C:\\Users\\DELL\\Miniconda3\\lib\\site-packages\\lightgbm\\callback.py:192: UserWarning: Early stopping is not available in dart mode\n",
      "  warnings.warn('Early stopping is not available in dart mode')\n",
      "C:\\Users\\DELL\\Miniconda3\\lib\\site-packages\\lightgbm\\callback.py:192: UserWarning: Early stopping is not available in dart mode\n",
      "  warnings.warn('Early stopping is not available in dart mode')\n",
      "C:\\Users\\DELL\\Miniconda3\\lib\\site-packages\\lightgbm\\callback.py:192: UserWarning: Early stopping is not available in dart mode\n",
      "  warnings.warn('Early stopping is not available in dart mode')\n",
      "C:\\Users\\DELL\\Miniconda3\\lib\\site-packages\\lightgbm\\callback.py:192: UserWarning: Early stopping is not available in dart mode\n",
      "  warnings.warn('Early stopping is not available in dart mode')\n"
     ]
    },
    {
     "name": "stdout",
     "output_type": "stream",
     "text": [
      "\n",
      "[117]\tvalid_0's binary_logloss: 0.429066\n",
      "[118]\tvalid_0's binary_logloss: 0.428518\n"
     ]
    },
    {
     "name": "stderr",
     "output_type": "stream",
     "text": [
      "C:\\Users\\DELL\\Miniconda3\\lib\\site-packages\\lightgbm\\callback.py:192: UserWarning: Early stopping is not available in dart mode\n",
      "  warnings.warn('Early stopping is not available in dart mode')\n",
      "C:\\Users\\DELL\\Miniconda3\\lib\\site-packages\\lightgbm\\callback.py:192: UserWarning: Early stopping is not available in dart mode\n",
      "  warnings.warn('Early stopping is not available in dart mode')\n"
     ]
    },
    {
     "name": "stdout",
     "output_type": "stream",
     "text": [
      "[119]\tvalid_0's binary_logloss: 0.428737\n"
     ]
    },
    {
     "name": "stderr",
     "output_type": "stream",
     "text": [
      "C:\\Users\\DELL\\Miniconda3\\lib\\site-packages\\lightgbm\\callback.py:192: UserWarning: Early stopping is not available in dart mode\n",
      "  warnings.warn('Early stopping is not available in dart mode')\n"
     ]
    },
    {
     "name": "stdout",
     "output_type": "stream",
     "text": [
      "[120]\tvalid_0's binary_logloss: 0.429052\n"
     ]
    },
    {
     "name": "stderr",
     "output_type": "stream",
     "text": [
      "C:\\Users\\DELL\\Miniconda3\\lib\\site-packages\\lightgbm\\callback.py:192: UserWarning: Early stopping is not available in dart mode\n",
      "  warnings.warn('Early stopping is not available in dart mode')\n"
     ]
    },
    {
     "name": "stdout",
     "output_type": "stream",
     "text": [
      "[121]\tvalid_0's binary_logloss: 0.42936\n"
     ]
    },
    {
     "name": "stderr",
     "output_type": "stream",
     "text": [
      "C:\\Users\\DELL\\Miniconda3\\lib\\site-packages\\lightgbm\\callback.py:192: UserWarning: Early stopping is not available in dart mode\n",
      "  warnings.warn('Early stopping is not available in dart mode')\n"
     ]
    },
    {
     "name": "stdout",
     "output_type": "stream",
     "text": [
      "[122]\tvalid_0's binary_logloss: 0.429692\n",
      "[123]\tvalid_0's binary_logloss: 0.429169\n",
      "[124]\tvalid_0's binary_logloss: 0.428692\n"
     ]
    },
    {
     "name": "stderr",
     "output_type": "stream",
     "text": [
      "C:\\Users\\DELL\\Miniconda3\\lib\\site-packages\\lightgbm\\callback.py:192: UserWarning: Early stopping is not available in dart mode\n",
      "  warnings.warn('Early stopping is not available in dart mode')\n",
      "C:\\Users\\DELL\\Miniconda3\\lib\\site-packages\\lightgbm\\callback.py:192: UserWarning: Early stopping is not available in dart mode\n",
      "  warnings.warn('Early stopping is not available in dart mode')\n",
      "C:\\Users\\DELL\\Miniconda3\\lib\\site-packages\\lightgbm\\callback.py:192: UserWarning: Early stopping is not available in dart mode\n",
      "  warnings.warn('Early stopping is not available in dart mode')\n"
     ]
    },
    {
     "name": "stdout",
     "output_type": "stream",
     "text": [
      "[125]\tvalid_0's binary_logloss: 0.428946\n"
     ]
    },
    {
     "name": "stderr",
     "output_type": "stream",
     "text": [
      "C:\\Users\\DELL\\Miniconda3\\lib\\site-packages\\lightgbm\\callback.py:192: UserWarning: Early stopping is not available in dart mode\n",
      "  warnings.warn('Early stopping is not available in dart mode')\n"
     ]
    },
    {
     "name": "stdout",
     "output_type": "stream",
     "text": [
      "[126]\tvalid_0's binary_logloss: 0.4292\n",
      "[127]\tvalid_0's binary_logloss: 0.428578\n"
     ]
    },
    {
     "name": "stderr",
     "output_type": "stream",
     "text": [
      "C:\\Users\\DELL\\Miniconda3\\lib\\site-packages\\lightgbm\\callback.py:192: UserWarning: Early stopping is not available in dart mode\n",
      "  warnings.warn('Early stopping is not available in dart mode')\n",
      "C:\\Users\\DELL\\Miniconda3\\lib\\site-packages\\lightgbm\\callback.py:192: UserWarning: Early stopping is not available in dart mode\n",
      "  warnings.warn('Early stopping is not available in dart mode')\n"
     ]
    },
    {
     "name": "stdout",
     "output_type": "stream",
     "text": [
      "[128]\tvalid_0's binary_logloss: 0.428834\n",
      "[129]\tvalid_0's binary_logloss: 0.428365\n",
      "[130]\tvalid_0's binary_logloss: 0.427949\n"
     ]
    },
    {
     "name": "stderr",
     "output_type": "stream",
     "text": [
      "C:\\Users\\DELL\\Miniconda3\\lib\\site-packages\\lightgbm\\callback.py:192: UserWarning: Early stopping is not available in dart mode\n",
      "  warnings.warn('Early stopping is not available in dart mode')\n",
      "C:\\Users\\DELL\\Miniconda3\\lib\\site-packages\\lightgbm\\callback.py:192: UserWarning: Early stopping is not available in dart mode\n",
      "  warnings.warn('Early stopping is not available in dart mode')\n",
      "C:\\Users\\DELL\\Miniconda3\\lib\\site-packages\\lightgbm\\callback.py:192: UserWarning: Early stopping is not available in dart mode\n",
      "  warnings.warn('Early stopping is not available in dart mode')\n"
     ]
    },
    {
     "name": "stdout",
     "output_type": "stream",
     "text": [
      "[131]\tvalid_0's binary_logloss: 0.42815\n",
      "[132]\tvalid_0's binary_logloss: 0.427717\n",
      "[133]\tvalid_0's binary_logloss: 0.427427\n"
     ]
    },
    {
     "name": "stderr",
     "output_type": "stream",
     "text": [
      "C:\\Users\\DELL\\Miniconda3\\lib\\site-packages\\lightgbm\\callback.py:192: UserWarning: Early stopping is not available in dart mode\n",
      "  warnings.warn('Early stopping is not available in dart mode')\n",
      "C:\\Users\\DELL\\Miniconda3\\lib\\site-packages\\lightgbm\\callback.py:192: UserWarning: Early stopping is not available in dart mode\n",
      "  warnings.warn('Early stopping is not available in dart mode')\n",
      "C:\\Users\\DELL\\Miniconda3\\lib\\site-packages\\lightgbm\\callback.py:192: UserWarning: Early stopping is not available in dart mode\n",
      "  warnings.warn('Early stopping is not available in dart mode')\n"
     ]
    },
    {
     "name": "stdout",
     "output_type": "stream",
     "text": [
      "[134]\tvalid_0's binary_logloss: 0.42806\n",
      "[135]\tvalid_0's binary_logloss: 0.427675\n"
     ]
    },
    {
     "name": "stderr",
     "output_type": "stream",
     "text": [
      "C:\\Users\\DELL\\Miniconda3\\lib\\site-packages\\lightgbm\\callback.py:192: UserWarning: Early stopping is not available in dart mode\n",
      "  warnings.warn('Early stopping is not available in dart mode')\n",
      "C:\\Users\\DELL\\Miniconda3\\lib\\site-packages\\lightgbm\\callback.py:192: UserWarning: Early stopping is not available in dart mode\n",
      "  warnings.warn('Early stopping is not available in dart mode')\n"
     ]
    },
    {
     "name": "stdout",
     "output_type": "stream",
     "text": [
      "[136]\tvalid_0's binary_logloss: 0.428747\n"
     ]
    },
    {
     "name": "stderr",
     "output_type": "stream",
     "text": [
      "C:\\Users\\DELL\\Miniconda3\\lib\\site-packages\\lightgbm\\callback.py:192: UserWarning: Early stopping is not available in dart mode\n",
      "  warnings.warn('Early stopping is not available in dart mode')\n"
     ]
    },
    {
     "name": "stdout",
     "output_type": "stream",
     "text": [
      "[137]\tvalid_0's binary_logloss: 0.429024\n",
      "[138]\tvalid_0's binary_logloss: 0.428377\n",
      "[139]\tvalid_0's binary_logloss: 0.427842\n"
     ]
    },
    {
     "name": "stderr",
     "output_type": "stream",
     "text": [
      "C:\\Users\\DELL\\Miniconda3\\lib\\site-packages\\lightgbm\\callback.py:192: UserWarning: Early stopping is not available in dart mode\n",
      "  warnings.warn('Early stopping is not available in dart mode')\n",
      "C:\\Users\\DELL\\Miniconda3\\lib\\site-packages\\lightgbm\\callback.py:192: UserWarning: Early stopping is not available in dart mode\n",
      "  warnings.warn('Early stopping is not available in dart mode')\n",
      "C:\\Users\\DELL\\Miniconda3\\lib\\site-packages\\lightgbm\\callback.py:192: UserWarning: Early stopping is not available in dart mode\n",
      "  warnings.warn('Early stopping is not available in dart mode')\n"
     ]
    },
    {
     "name": "stdout",
     "output_type": "stream",
     "text": [
      "[140]\tvalid_0's binary_logloss: 0.428128\n"
     ]
    },
    {
     "name": "stderr",
     "output_type": "stream",
     "text": [
      "C:\\Users\\DELL\\Miniconda3\\lib\\site-packages\\lightgbm\\callback.py:192: UserWarning: Early stopping is not available in dart mode\n",
      "  warnings.warn('Early stopping is not available in dart mode')\n"
     ]
    },
    {
     "name": "stdout",
     "output_type": "stream",
     "text": [
      "[141]\tvalid_0's binary_logloss: 0.42837\n"
     ]
    },
    {
     "name": "stderr",
     "output_type": "stream",
     "text": [
      "C:\\Users\\DELL\\Miniconda3\\lib\\site-packages\\lightgbm\\callback.py:192: UserWarning: Early stopping is not available in dart mode\n",
      "  warnings.warn('Early stopping is not available in dart mode')\n"
     ]
    },
    {
     "name": "stdout",
     "output_type": "stream",
     "text": [
      "[142]\tvalid_0's binary_logloss: 0.42862\n",
      "[143]\tvalid_0's binary_logloss: 0.428116\n"
     ]
    },
    {
     "name": "stderr",
     "output_type": "stream",
     "text": [
      "C:\\Users\\DELL\\Miniconda3\\lib\\site-packages\\lightgbm\\callback.py:192: UserWarning: Early stopping is not available in dart mode\n",
      "  warnings.warn('Early stopping is not available in dart mode')\n",
      "C:\\Users\\DELL\\Miniconda3\\lib\\site-packages\\lightgbm\\callback.py:192: UserWarning: Early stopping is not available in dart mode\n",
      "  warnings.warn('Early stopping is not available in dart mode')\n"
     ]
    },
    {
     "name": "stdout",
     "output_type": "stream",
     "text": [
      "[144]\tvalid_0's binary_logloss: 0.428336\n",
      "[145]\tvalid_0's binary_logloss: 0.427694\n"
     ]
    },
    {
     "name": "stderr",
     "output_type": "stream",
     "text": [
      "C:\\Users\\DELL\\Miniconda3\\lib\\site-packages\\lightgbm\\callback.py:192: UserWarning: Early stopping is not available in dart mode\n",
      "  warnings.warn('Early stopping is not available in dart mode')\n",
      "C:\\Users\\DELL\\Miniconda3\\lib\\site-packages\\lightgbm\\callback.py:192: UserWarning: Early stopping is not available in dart mode\n",
      "  warnings.warn('Early stopping is not available in dart mode')\n"
     ]
    },
    {
     "name": "stdout",
     "output_type": "stream",
     "text": [
      "[146]\tvalid_0's binary_logloss: 0.428015\n"
     ]
    },
    {
     "name": "stderr",
     "output_type": "stream",
     "text": [
      "C:\\Users\\DELL\\Miniconda3\\lib\\site-packages\\lightgbm\\callback.py:192: UserWarning: Early stopping is not available in dart mode\n",
      "  warnings.warn('Early stopping is not available in dart mode')\n"
     ]
    },
    {
     "name": "stdout",
     "output_type": "stream",
     "text": [
      "[147]\tvalid_0's binary_logloss: 0.428284\n"
     ]
    },
    {
     "name": "stderr",
     "output_type": "stream",
     "text": [
      "C:\\Users\\DELL\\Miniconda3\\lib\\site-packages\\lightgbm\\callback.py:192: UserWarning: Early stopping is not available in dart mode\n",
      "  warnings.warn('Early stopping is not available in dart mode')\n"
     ]
    },
    {
     "name": "stdout",
     "output_type": "stream",
     "text": [
      "[148]\tvalid_0's binary_logloss: 0.428581\n",
      "[149]\tvalid_0's binary_logloss: 0.428112\n",
      "[150]\tvalid_0's binary_logloss: 0.427579\n"
     ]
    },
    {
     "name": "stderr",
     "output_type": "stream",
     "text": [
      "C:\\Users\\DELL\\Miniconda3\\lib\\site-packages\\lightgbm\\callback.py:192: UserWarning: Early stopping is not available in dart mode\n",
      "  warnings.warn('Early stopping is not available in dart mode')\n",
      "C:\\Users\\DELL\\Miniconda3\\lib\\site-packages\\lightgbm\\callback.py:192: UserWarning: Early stopping is not available in dart mode\n",
      "  warnings.warn('Early stopping is not available in dart mode')\n",
      "C:\\Users\\DELL\\Miniconda3\\lib\\site-packages\\lightgbm\\callback.py:192: UserWarning: Early stopping is not available in dart mode\n",
      "  warnings.warn('Early stopping is not available in dart mode')\n"
     ]
    },
    {
     "name": "stdout",
     "output_type": "stream",
     "text": [
      "[151]\tvalid_0's binary_logloss: 0.428195\n"
     ]
    },
    {
     "name": "stderr",
     "output_type": "stream",
     "text": [
      "C:\\Users\\DELL\\Miniconda3\\lib\\site-packages\\lightgbm\\callback.py:192: UserWarning: Early stopping is not available in dart mode\n",
      "  warnings.warn('Early stopping is not available in dart mode')\n"
     ]
    },
    {
     "name": "stdout",
     "output_type": "stream",
     "text": [
      "[152]\tvalid_0's binary_logloss: 0.428956\n",
      "[153]\tvalid_0's binary_logloss: 0.428301\n"
     ]
    },
    {
     "name": "stderr",
     "output_type": "stream",
     "text": [
      "C:\\Users\\DELL\\Miniconda3\\lib\\site-packages\\lightgbm\\callback.py:192: UserWarning: Early stopping is not available in dart mode\n",
      "  warnings.warn('Early stopping is not available in dart mode')\n",
      "C:\\Users\\DELL\\Miniconda3\\lib\\site-packages\\lightgbm\\callback.py:192: UserWarning: Early stopping is not available in dart mode\n",
      "  warnings.warn('Early stopping is not available in dart mode')\n"
     ]
    },
    {
     "name": "stdout",
     "output_type": "stream",
     "text": [
      "[154]\tvalid_0's binary_logloss: 0.428514\n",
      "[155]\tvalid_0's binary_logloss: 0.427988\n"
     ]
    },
    {
     "name": "stderr",
     "output_type": "stream",
     "text": [
      "C:\\Users\\DELL\\Miniconda3\\lib\\site-packages\\lightgbm\\callback.py:192: UserWarning: Early stopping is not available in dart mode\n",
      "  warnings.warn('Early stopping is not available in dart mode')\n",
      "C:\\Users\\DELL\\Miniconda3\\lib\\site-packages\\lightgbm\\callback.py:192: UserWarning: Early stopping is not available in dart mode\n",
      "  warnings.warn('Early stopping is not available in dart mode')\n"
     ]
    },
    {
     "ename": "KeyboardInterrupt",
     "evalue": "",
     "output_type": "error",
     "traceback": [
      "\u001b[1;31m---------------------------------------------------------------------------\u001b[0m",
      "\u001b[1;31mKeyboardInterrupt\u001b[0m                         Traceback (most recent call last)",
      "\u001b[1;32m<ipython-input-59-e6baea4cbcc9>\u001b[0m in \u001b[0;36m<module>\u001b[1;34m\u001b[0m\n\u001b[0;32m     12\u001b[0m model2=lgb.train(params,d_train,400,\n\u001b[0;32m     13\u001b[0m                 \u001b[0mvalid_sets\u001b[0m\u001b[1;33m=\u001b[0m\u001b[0md_test\u001b[0m\u001b[1;33m,\u001b[0m\u001b[0mverbose_eval\u001b[0m\u001b[1;33m=\u001b[0m\u001b[1;32mTrue\u001b[0m\u001b[1;33m,\u001b[0m\u001b[1;33m\u001b[0m\u001b[0m\n\u001b[1;32m---> 14\u001b[1;33m                 early_stopping_rounds=20)\n\u001b[0m",
      "\u001b[1;32m~\\Miniconda3\\lib\\site-packages\\lightgbm\\engine.py\u001b[0m in \u001b[0;36mtrain\u001b[1;34m(params, train_set, num_boost_round, valid_sets, valid_names, fobj, feval, init_model, feature_name, categorical_feature, early_stopping_rounds, evals_result, verbose_eval, learning_rates, keep_training_booster, callbacks)\u001b[0m\n\u001b[0;32m    247\u001b[0m                                     evaluation_result_list=None))\n\u001b[0;32m    248\u001b[0m \u001b[1;33m\u001b[0m\u001b[0m\n\u001b[1;32m--> 249\u001b[1;33m         \u001b[0mbooster\u001b[0m\u001b[1;33m.\u001b[0m\u001b[0mupdate\u001b[0m\u001b[1;33m(\u001b[0m\u001b[0mfobj\u001b[0m\u001b[1;33m=\u001b[0m\u001b[0mfobj\u001b[0m\u001b[1;33m)\u001b[0m\u001b[1;33m\u001b[0m\u001b[0m\n\u001b[0m\u001b[0;32m    250\u001b[0m \u001b[1;33m\u001b[0m\u001b[0m\n\u001b[0;32m    251\u001b[0m         \u001b[0mevaluation_result_list\u001b[0m \u001b[1;33m=\u001b[0m \u001b[1;33m[\u001b[0m\u001b[1;33m]\u001b[0m\u001b[1;33m\u001b[0m\u001b[0m\n",
      "\u001b[1;32m~\\Miniconda3\\lib\\site-packages\\lightgbm\\basic.py\u001b[0m in \u001b[0;36mupdate\u001b[1;34m(self, train_set, fobj)\u001b[0m\n\u001b[0;32m   1924\u001b[0m             _safe_call(_LIB.LGBM_BoosterUpdateOneIter(\n\u001b[0;32m   1925\u001b[0m                 \u001b[0mself\u001b[0m\u001b[1;33m.\u001b[0m\u001b[0mhandle\u001b[0m\u001b[1;33m,\u001b[0m\u001b[1;33m\u001b[0m\u001b[0m\n\u001b[1;32m-> 1926\u001b[1;33m                 ctypes.byref(is_finished)))\n\u001b[0m\u001b[0;32m   1927\u001b[0m             \u001b[0mself\u001b[0m\u001b[1;33m.\u001b[0m\u001b[0m__is_predicted_cur_iter\u001b[0m \u001b[1;33m=\u001b[0m \u001b[1;33m[\u001b[0m\u001b[1;32mFalse\u001b[0m \u001b[1;32mfor\u001b[0m \u001b[0m_\u001b[0m \u001b[1;32min\u001b[0m \u001b[0mrange_\u001b[0m\u001b[1;33m(\u001b[0m\u001b[0mself\u001b[0m\u001b[1;33m.\u001b[0m\u001b[0m__num_dataset\u001b[0m\u001b[1;33m)\u001b[0m\u001b[1;33m]\u001b[0m\u001b[1;33m\u001b[0m\u001b[0m\n\u001b[0;32m   1928\u001b[0m             \u001b[1;32mreturn\u001b[0m \u001b[0mis_finished\u001b[0m\u001b[1;33m.\u001b[0m\u001b[0mvalue\u001b[0m \u001b[1;33m==\u001b[0m \u001b[1;36m1\u001b[0m\u001b[1;33m\u001b[0m\u001b[0m\n",
      "\u001b[1;31mKeyboardInterrupt\u001b[0m: "
     ]
    }
   ],
   "source": [
    "params={}\n",
    "params['learning_rate']= 0.15\n",
    "params['boosting_type']='gbdt'\n",
    "params['objective']='binary'\n",
    "params['metric']='binary_logloss'\n",
    "params['sub_feature']=0.5\n",
    "params['num_leaves']= 10\n",
    "params['min_data']=50\n",
    "params['max_depth']=10\n",
    "d_train = lgb.Dataset(x_train, label=y_train )\n",
    "d_test =  lgb.Dataset( x_test, label= y_test)\n",
    "model2=lgb.train(params,d_train,400,\n",
    "                valid_sets=d_test,verbose_eval=True,\n",
    "                early_stopping_rounds=20)"
   ]
  },
  {
   "cell_type": "code",
   "execution_count": 60,
   "metadata": {},
   "outputs": [],
   "source": [
    "#encoded_df_test=encoded_df_test.drop(['id'],axis=1)\n",
    "y_pred=model.predict(encoded_df_test)"
   ]
  },
  {
   "cell_type": "code",
   "execution_count": 61,
   "metadata": {},
   "outputs": [
    {
     "data": {
      "text/plain": [
       "array([0.23946035, 0.31583122, 0.13287889, ..., 0.35443531, 0.24174781,\n",
       "       0.21503457])"
      ]
     },
     "execution_count": 61,
     "metadata": {},
     "output_type": "execute_result"
    }
   ],
   "source": [
    "y_pred"
   ]
  },
  {
   "cell_type": "code",
   "execution_count": 62,
   "metadata": {},
   "outputs": [
    {
     "data": {
      "text/plain": [
       "400000"
      ]
     },
     "execution_count": 62,
     "metadata": {},
     "output_type": "execute_result"
    }
   ],
   "source": [
    "for i in range(0,100):\n",
    "    if (y_pred[i] >= 0.5):\n",
    "        y_pred[i] = 1\n",
    "    else:\n",
    "        y_pred[i] =0\n",
    "len(y_pred) "
   ]
  },
  {
   "cell_type": "code",
   "execution_count": 63,
   "metadata": {},
   "outputs": [],
   "source": [
    "sample = pd.read_csv(\"sample_submission.csv\")\n",
    "sample.loc[:, \"target\"] = y_pred\n",
    "sample.to_csv(\"submission_using_lgbm.csv\", index=False)"
   ]
  },
  {
   "cell_type": "code",
   "execution_count": null,
   "metadata": {},
   "outputs": [],
   "source": [
    "from scipy.stats import randint as sp_randint\n",
    "from scipy.stats import uniform as sp_uniform\n",
    "param_test ={'num_leaves': sp_randint(6, 50), \n",
    "             'min_child_samples': sp_randint(100, 500), \n",
    "             'min_child_weight': [1e-5, 1e-3, 1e-2, 1e-1, 1, 1e1, 1e2, 1e3, 1e4],\n",
    "             'subsample': sp_uniform(loc=0.2, scale=0.8), \n",
    "             'colsample_bytree': sp_uniform(loc=0.4, scale=0.6),\n",
    "             'reg_alpha': [0, 1e-1, 1, 2, 5, 7, 10, 50, 100],\n",
    "             'reg_lambda': [0, 1e-1, 1, 5, 10, 20, 50, 100]}"
   ]
  },
  {
   "cell_type": "code",
   "execution_count": null,
   "metadata": {},
   "outputs": [],
   "source": [
    "import lightgbm as lgb\n",
    "from sklearn.model_selection import RandomizedSearchCV, GridSearchCV\n",
    "\n",
    "#n_estimators is set to a \"large value\". The actual number of trees build will depend on early stopping and 5000 define only the absolute maximum\n",
    "clf = lgb.LGBMClassifier(max_depth=-1, random_state=314, silent=True, metric='None', n_jobs=4, n_estimators=5000)\n",
    "gs = RandomizedSearchCV(\n",
    "    estimator=clf, param_distributions=param_test, \n",
    "    n_iter=n_HP_points_to_test,\n",
    "    scoring='roc_auc',\n",
    "    cv=3,\n",
    "    refit=True,\n",
    "    random_state=314,\n",
    "    verbose=True)\n",
    "\n",
    "gs.fit(X_train, y_train, **fit_params)\n",
    "print('Best score reached: {} with params: {} '.format(gs.best_score_, gs.best_params_))"
   ]
  },
  {
   "cell_type": "code",
   "execution_count": null,
   "metadata": {},
   "outputs": [],
   "source": [
    "gridParams = {\n",
    "    'learning_rate': [0.005],\n",
    "    'n_estimators': [40],\n",
    "    'num_leaves': [6,8,12,16],\n",
    "    'boosting_type' : ['gbdt'],\n",
    "    'objective' : ['binary'],\n",
    "    'random_state' : [501], # Updated from 'seed'\n",
    "    'colsample_bytree' : [0.65, 0.66],\n",
    "    'subsample' : [0.7,0.75],\n",
    "    'reg_alpha' : [1,1.2],\n",
    "    'reg_lambda' : [1,1.2,1.4],\n",
    "    }\n",
    "\n",
    "# Create classifier to use. Note that parameters have to be input manually\n",
    "# not as a dict!\n",
    "mdl = lgb.LGBMClassifier(boosting_type= 'gbdt',\n",
    "          objective = 'binary',\n",
    "          n_jobs = 3, # Updated from 'nthread'\n",
    "          silent = True,\n",
    "          max_depth = params['max_depth'],\n",
    "          max_bin = params['max_bin'],\n",
    "          subsample_for_bin = params['subsample_for_bin'],\n",
    "          subsample = params['subsample'],\n",
    "          subsample_freq = params['subsample_freq'],\n",
    "          min_split_gain = params['min_split_gain'],\n",
    "          min_child_weight = params['min_child_weight'],\n",
    "          min_child_samples = params['min_child_samples'],\n",
    "          scale_pos_weight = params['scale_pos_weight'])\n",
    "\n",
    "mdl.get_params().keys()\n",
    "\n",
    "# Create the grid\n",
    "grid = GridSearchCV(mdl, gridParams,\n",
    "                    verbose=0,\n",
    "                    cv=4,\n",
    "                    n_jobs=2)\n",
    "# Run the grid\n",
    "grid.fit(allTrainData, allTrainLabels)"
   ]
  },
  {
   "cell_type": "code",
   "execution_count": null,
   "metadata": {},
   "outputs": [],
   "source": [
    "features = [col for col in df_train.columns if col not in ['target', 'ID_code']]\n",
    "X_test = df_test[features].values\n",
    "feature_importance_df = pd.DataFrame()\n",
    "predictions = df_test[['ID_code']]\n",
    "\n",
    "for fold, (trn_idx, val_idx) in enumerate(skf.split(df_train, df_train['target'])):\n",
    "    print(\"FOLD: \", fold, \"TRAIN:\", train_index, \"TEST:\", test_index)\n",
    "    X_train, y_train = df_train.iloc[trn_idx][features], df_train.iloc[trn_idx]['target']\n",
    "    X_valid, y_valid = df_train.iloc[val_idx][features], df_train.iloc[val_idx]['target']\n",
    "    \n",
    "    N = 5\n",
    "    p_valid = 0\n",
    "    yp = 0\n",
    "    \n",
    "    for i in range(N):\n",
    "        \n",
    "        trn_data = lgb.Dataset(X_train, label = y_train)\n",
    "        val_data = lgb.Dataset(X_valid, label = y_valid)\n",
    "        \n",
    "        \n",
    "        \n",
    "        lgb_clf = lgb.train(lgb_params,\n",
    "                   trn_data,\n",
    "                   100000,\n",
    "                   valid_sets = [trn_data, val_data],\n",
    "                    verbose_eval = 5000,\n",
    "                    early_stopping_rounds = 3000)\n",
    "        \n",
    "        p_valid += lgb_clf.predict(X_valid)\n",
    "        yp += lgb_clf.predict(X_test)\n",
    "    \n",
    "    \n",
    "    #Get importance of the fold when predicting test set\n",
    "    fold_importance_df = pd.DataFrame()\n",
    "    fold_importance_df[\"feature\"] = features\n",
    "    fold_importance_df[\"importance\"] = lgb_clf.feature_importance()\n",
    "    fold_importance_df[\"fold\"] = fold + 1\n",
    "    feature_importance_df = pd.concat([feature_importance_df, fold_importance_df], axis=0)\n",
    "    predictions['fold{}'.format(fold+1)] = yp/N"
   ]
  }
 ],
 "metadata": {
  "kernelspec": {
   "display_name": "Python 3",
   "language": "python",
   "name": "python3"
  },
  "language_info": {
   "codemirror_mode": {
    "name": "ipython",
    "version": 3
   },
   "file_extension": ".py",
   "mimetype": "text/x-python",
   "name": "python",
   "nbconvert_exporter": "python",
   "pygments_lexer": "ipython3",
   "version": "3.6.5"
  }
 },
 "nbformat": 4,
 "nbformat_minor": 2
}
